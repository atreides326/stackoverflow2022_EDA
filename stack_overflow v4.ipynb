{
 "cells": [
  {
   "cell_type": "markdown",
   "metadata": {},
   "source": [
    "# Stackoverflow Dev Career\n",
    "\n",
    "### Background\n",
    "\n",
    "The field of data and engineering is very broad. There is a wide range of skills to learn and new tools always emerging. The overall purpose of this notebook is to explore the data set with a focus on US devs:\n",
    "\n",
    "- What is a typical US full time dev profile? \n",
    "    - demographics\n",
    "    - tools used\n",
    "    - salary\n",
    "- Segment and see if patterns emerge \n",
    "    - experience "
   ]
  },
  {
   "cell_type": "markdown",
   "metadata": {},
   "source": [
    "### Import Libraries"
   ]
  },
  {
   "cell_type": "code",
   "execution_count": 1,
   "metadata": {},
   "outputs": [],
   "source": [
    "import numpy as np\n",
    "import pandas as pd\n",
    "from matplotlib import pyplot as plt\n",
    "import seaborn as sns"
   ]
  },
  {
   "cell_type": "code",
   "execution_count": 2,
   "metadata": {},
   "outputs": [],
   "source": [
    "pd.set_option('display.float_format', lambda x: '%.2f' % x)"
   ]
  },
  {
   "cell_type": "markdown",
   "metadata": {},
   "source": [
    "### Load and Review Data"
   ]
  },
  {
   "cell_type": "code",
   "execution_count": 3,
   "metadata": {},
   "outputs": [],
   "source": [
    "df_2022 = pd.read_csv('files/2022 Stack Overflow Survey Results.csv')"
   ]
  },
  {
   "cell_type": "code",
   "execution_count": 4,
   "metadata": {},
   "outputs": [
    {
     "data": {
      "text/plain": [
       "(73268, 79)"
      ]
     },
     "execution_count": 4,
     "metadata": {},
     "output_type": "execute_result"
    }
   ],
   "source": [
    "df_2022.shape"
   ]
  },
  {
   "cell_type": "code",
   "execution_count": 5,
   "metadata": {},
   "outputs": [
    {
     "data": {
      "text/html": [
       "<div>\n",
       "<style scoped>\n",
       "    .dataframe tbody tr th:only-of-type {\n",
       "        vertical-align: middle;\n",
       "    }\n",
       "\n",
       "    .dataframe tbody tr th {\n",
       "        vertical-align: top;\n",
       "    }\n",
       "\n",
       "    .dataframe thead th {\n",
       "        text-align: right;\n",
       "    }\n",
       "</style>\n",
       "<table border=\"1\" class=\"dataframe\">\n",
       "  <thead>\n",
       "    <tr style=\"text-align: right;\">\n",
       "      <th></th>\n",
       "      <th>ResponseId</th>\n",
       "      <th>MainBranch</th>\n",
       "      <th>Employment</th>\n",
       "      <th>RemoteWork</th>\n",
       "      <th>CodingActivities</th>\n",
       "      <th>EdLevel</th>\n",
       "      <th>LearnCode</th>\n",
       "      <th>LearnCodeOnline</th>\n",
       "      <th>LearnCodeCoursesCert</th>\n",
       "      <th>YearsCode</th>\n",
       "      <th>...</th>\n",
       "      <th>TimeSearching</th>\n",
       "      <th>TimeAnswering</th>\n",
       "      <th>Onboarding</th>\n",
       "      <th>ProfessionalTech</th>\n",
       "      <th>TrueFalse_1</th>\n",
       "      <th>TrueFalse_2</th>\n",
       "      <th>TrueFalse_3</th>\n",
       "      <th>SurveyLength</th>\n",
       "      <th>SurveyEase</th>\n",
       "      <th>ConvertedCompYearly</th>\n",
       "    </tr>\n",
       "  </thead>\n",
       "  <tbody>\n",
       "    <tr>\n",
       "      <th>0</th>\n",
       "      <td>1</td>\n",
       "      <td>None of these</td>\n",
       "      <td>NaN</td>\n",
       "      <td>NaN</td>\n",
       "      <td>NaN</td>\n",
       "      <td>NaN</td>\n",
       "      <td>NaN</td>\n",
       "      <td>NaN</td>\n",
       "      <td>NaN</td>\n",
       "      <td>NaN</td>\n",
       "      <td>...</td>\n",
       "      <td>NaN</td>\n",
       "      <td>NaN</td>\n",
       "      <td>NaN</td>\n",
       "      <td>NaN</td>\n",
       "      <td>NaN</td>\n",
       "      <td>NaN</td>\n",
       "      <td>NaN</td>\n",
       "      <td>NaN</td>\n",
       "      <td>NaN</td>\n",
       "      <td>nan</td>\n",
       "    </tr>\n",
       "    <tr>\n",
       "      <th>1</th>\n",
       "      <td>2</td>\n",
       "      <td>I am a developer by profession</td>\n",
       "      <td>Employed, full-time</td>\n",
       "      <td>Fully remote</td>\n",
       "      <td>Hobby;Contribute to open-source projects</td>\n",
       "      <td>NaN</td>\n",
       "      <td>NaN</td>\n",
       "      <td>NaN</td>\n",
       "      <td>NaN</td>\n",
       "      <td>NaN</td>\n",
       "      <td>...</td>\n",
       "      <td>NaN</td>\n",
       "      <td>NaN</td>\n",
       "      <td>NaN</td>\n",
       "      <td>NaN</td>\n",
       "      <td>NaN</td>\n",
       "      <td>NaN</td>\n",
       "      <td>NaN</td>\n",
       "      <td>Too long</td>\n",
       "      <td>Difficult</td>\n",
       "      <td>nan</td>\n",
       "    </tr>\n",
       "    <tr>\n",
       "      <th>2</th>\n",
       "      <td>3</td>\n",
       "      <td>I am not primarily a developer, but I write co...</td>\n",
       "      <td>Employed, full-time</td>\n",
       "      <td>Hybrid (some remote, some in-person)</td>\n",
       "      <td>Hobby</td>\n",
       "      <td>Master’s degree (M.A., M.S., M.Eng., MBA, etc.)</td>\n",
       "      <td>Books / Physical media;Friend or family member...</td>\n",
       "      <td>Technical documentation;Blogs;Programming Game...</td>\n",
       "      <td>NaN</td>\n",
       "      <td>14</td>\n",
       "      <td>...</td>\n",
       "      <td>NaN</td>\n",
       "      <td>NaN</td>\n",
       "      <td>NaN</td>\n",
       "      <td>NaN</td>\n",
       "      <td>NaN</td>\n",
       "      <td>NaN</td>\n",
       "      <td>NaN</td>\n",
       "      <td>Appropriate in length</td>\n",
       "      <td>Neither easy nor difficult</td>\n",
       "      <td>40205.00</td>\n",
       "    </tr>\n",
       "    <tr>\n",
       "      <th>3</th>\n",
       "      <td>4</td>\n",
       "      <td>I am a developer by profession</td>\n",
       "      <td>Employed, full-time</td>\n",
       "      <td>Fully remote</td>\n",
       "      <td>I don’t code outside of work</td>\n",
       "      <td>Bachelor’s degree (B.A., B.S., B.Eng., etc.)</td>\n",
       "      <td>Books / Physical media;School (i.e., Universit...</td>\n",
       "      <td>NaN</td>\n",
       "      <td>NaN</td>\n",
       "      <td>20</td>\n",
       "      <td>...</td>\n",
       "      <td>NaN</td>\n",
       "      <td>NaN</td>\n",
       "      <td>NaN</td>\n",
       "      <td>NaN</td>\n",
       "      <td>NaN</td>\n",
       "      <td>NaN</td>\n",
       "      <td>NaN</td>\n",
       "      <td>Appropriate in length</td>\n",
       "      <td>Easy</td>\n",
       "      <td>215232.00</td>\n",
       "    </tr>\n",
       "    <tr>\n",
       "      <th>4</th>\n",
       "      <td>5</td>\n",
       "      <td>I am a developer by profession</td>\n",
       "      <td>Employed, full-time</td>\n",
       "      <td>Hybrid (some remote, some in-person)</td>\n",
       "      <td>Hobby</td>\n",
       "      <td>Bachelor’s degree (B.A., B.S., B.Eng., etc.)</td>\n",
       "      <td>Other online resources (e.g., videos, blogs, f...</td>\n",
       "      <td>Technical documentation;Blogs;Stack Overflow;O...</td>\n",
       "      <td>NaN</td>\n",
       "      <td>8</td>\n",
       "      <td>...</td>\n",
       "      <td>NaN</td>\n",
       "      <td>NaN</td>\n",
       "      <td>NaN</td>\n",
       "      <td>NaN</td>\n",
       "      <td>NaN</td>\n",
       "      <td>NaN</td>\n",
       "      <td>NaN</td>\n",
       "      <td>Too long</td>\n",
       "      <td>Easy</td>\n",
       "      <td>nan</td>\n",
       "    </tr>\n",
       "  </tbody>\n",
       "</table>\n",
       "<p>5 rows × 79 columns</p>\n",
       "</div>"
      ],
      "text/plain": [
       "   ResponseId                                         MainBranch  \\\n",
       "0           1                                      None of these   \n",
       "1           2                     I am a developer by profession   \n",
       "2           3  I am not primarily a developer, but I write co...   \n",
       "3           4                     I am a developer by profession   \n",
       "4           5                     I am a developer by profession   \n",
       "\n",
       "            Employment                            RemoteWork  \\\n",
       "0                  NaN                                   NaN   \n",
       "1  Employed, full-time                          Fully remote   \n",
       "2  Employed, full-time  Hybrid (some remote, some in-person)   \n",
       "3  Employed, full-time                          Fully remote   \n",
       "4  Employed, full-time  Hybrid (some remote, some in-person)   \n",
       "\n",
       "                           CodingActivities  \\\n",
       "0                                       NaN   \n",
       "1  Hobby;Contribute to open-source projects   \n",
       "2                                     Hobby   \n",
       "3              I don’t code outside of work   \n",
       "4                                     Hobby   \n",
       "\n",
       "                                           EdLevel  \\\n",
       "0                                              NaN   \n",
       "1                                              NaN   \n",
       "2  Master’s degree (M.A., M.S., M.Eng., MBA, etc.)   \n",
       "3     Bachelor’s degree (B.A., B.S., B.Eng., etc.)   \n",
       "4     Bachelor’s degree (B.A., B.S., B.Eng., etc.)   \n",
       "\n",
       "                                           LearnCode  \\\n",
       "0                                                NaN   \n",
       "1                                                NaN   \n",
       "2  Books / Physical media;Friend or family member...   \n",
       "3  Books / Physical media;School (i.e., Universit...   \n",
       "4  Other online resources (e.g., videos, blogs, f...   \n",
       "\n",
       "                                     LearnCodeOnline LearnCodeCoursesCert  \\\n",
       "0                                                NaN                  NaN   \n",
       "1                                                NaN                  NaN   \n",
       "2  Technical documentation;Blogs;Programming Game...                  NaN   \n",
       "3                                                NaN                  NaN   \n",
       "4  Technical documentation;Blogs;Stack Overflow;O...                  NaN   \n",
       "\n",
       "  YearsCode  ... TimeSearching TimeAnswering Onboarding ProfessionalTech  \\\n",
       "0       NaN  ...           NaN           NaN        NaN              NaN   \n",
       "1       NaN  ...           NaN           NaN        NaN              NaN   \n",
       "2        14  ...           NaN           NaN        NaN              NaN   \n",
       "3        20  ...           NaN           NaN        NaN              NaN   \n",
       "4         8  ...           NaN           NaN        NaN              NaN   \n",
       "\n",
       "  TrueFalse_1 TrueFalse_2 TrueFalse_3           SurveyLength  \\\n",
       "0         NaN         NaN         NaN                    NaN   \n",
       "1         NaN         NaN         NaN               Too long   \n",
       "2         NaN         NaN         NaN  Appropriate in length   \n",
       "3         NaN         NaN         NaN  Appropriate in length   \n",
       "4         NaN         NaN         NaN               Too long   \n",
       "\n",
       "                   SurveyEase ConvertedCompYearly  \n",
       "0                         NaN                 nan  \n",
       "1                   Difficult                 nan  \n",
       "2  Neither easy nor difficult            40205.00  \n",
       "3                        Easy           215232.00  \n",
       "4                        Easy                 nan  \n",
       "\n",
       "[5 rows x 79 columns]"
      ]
     },
     "execution_count": 5,
     "metadata": {},
     "output_type": "execute_result"
    }
   ],
   "source": [
    "df_2022.head()"
   ]
  },
  {
   "cell_type": "code",
   "execution_count": 6,
   "metadata": {},
   "outputs": [
    {
     "data": {
      "text/html": [
       "<div>\n",
       "<style scoped>\n",
       "    .dataframe tbody tr th:only-of-type {\n",
       "        vertical-align: middle;\n",
       "    }\n",
       "\n",
       "    .dataframe tbody tr th {\n",
       "        vertical-align: top;\n",
       "    }\n",
       "\n",
       "    .dataframe thead th {\n",
       "        text-align: right;\n",
       "    }\n",
       "</style>\n",
       "<table border=\"1\" class=\"dataframe\">\n",
       "  <thead>\n",
       "    <tr style=\"text-align: right;\">\n",
       "      <th></th>\n",
       "      <th>count</th>\n",
       "      <th>mean</th>\n",
       "      <th>std</th>\n",
       "      <th>min</th>\n",
       "      <th>25%</th>\n",
       "      <th>50%</th>\n",
       "      <th>75%</th>\n",
       "      <th>max</th>\n",
       "    </tr>\n",
       "  </thead>\n",
       "  <tbody>\n",
       "    <tr>\n",
       "      <th>ResponseId</th>\n",
       "      <td>73268.00</td>\n",
       "      <td>36634.50</td>\n",
       "      <td>21150.79</td>\n",
       "      <td>1.00</td>\n",
       "      <td>18317.75</td>\n",
       "      <td>36634.50</td>\n",
       "      <td>54951.25</td>\n",
       "      <td>73268.00</td>\n",
       "    </tr>\n",
       "    <tr>\n",
       "      <th>CompTotal</th>\n",
       "      <td>38422.00</td>\n",
       "      <td>23424340221747959297504942608856691548764873498...</td>\n",
       "      <td>45914781878161738872227058510324868731367416738...</td>\n",
       "      <td>0.00</td>\n",
       "      <td>30000.00</td>\n",
       "      <td>77500.00</td>\n",
       "      <td>154000.00</td>\n",
       "      <td>90000000000000006093448009035034248110033526180...</td>\n",
       "    </tr>\n",
       "    <tr>\n",
       "      <th>VCHostingPersonal use</th>\n",
       "      <td>0.00</td>\n",
       "      <td>nan</td>\n",
       "      <td>nan</td>\n",
       "      <td>nan</td>\n",
       "      <td>nan</td>\n",
       "      <td>nan</td>\n",
       "      <td>nan</td>\n",
       "      <td>nan</td>\n",
       "    </tr>\n",
       "    <tr>\n",
       "      <th>VCHostingProfessional use</th>\n",
       "      <td>0.00</td>\n",
       "      <td>nan</td>\n",
       "      <td>nan</td>\n",
       "      <td>nan</td>\n",
       "      <td>nan</td>\n",
       "      <td>nan</td>\n",
       "      <td>nan</td>\n",
       "      <td>nan</td>\n",
       "    </tr>\n",
       "    <tr>\n",
       "      <th>WorkExp</th>\n",
       "      <td>36769.00</td>\n",
       "      <td>10.24</td>\n",
       "      <td>8.71</td>\n",
       "      <td>0.00</td>\n",
       "      <td>4.00</td>\n",
       "      <td>8.00</td>\n",
       "      <td>15.00</td>\n",
       "      <td>50.00</td>\n",
       "    </tr>\n",
       "    <tr>\n",
       "      <th>ConvertedCompYearly</th>\n",
       "      <td>38071.00</td>\n",
       "      <td>170761.28</td>\n",
       "      <td>781413.24</td>\n",
       "      <td>1.00</td>\n",
       "      <td>35832.00</td>\n",
       "      <td>67845.00</td>\n",
       "      <td>120000.00</td>\n",
       "      <td>50000000.00</td>\n",
       "    </tr>\n",
       "  </tbody>\n",
       "</table>\n",
       "</div>"
      ],
      "text/plain": [
       "                             count  \\\n",
       "ResponseId                73268.00   \n",
       "CompTotal                 38422.00   \n",
       "VCHostingPersonal use         0.00   \n",
       "VCHostingProfessional use     0.00   \n",
       "WorkExp                   36769.00   \n",
       "ConvertedCompYearly       38071.00   \n",
       "\n",
       "                                                                        mean  \\\n",
       "ResponseId                                                          36634.50   \n",
       "CompTotal                 23424340221747959297504942608856691548764873498...   \n",
       "VCHostingPersonal use                                                    nan   \n",
       "VCHostingProfessional use                                                nan   \n",
       "WorkExp                                                                10.24   \n",
       "ConvertedCompYearly                                                170761.28   \n",
       "\n",
       "                                                                         std  \\\n",
       "ResponseId                                                          21150.79   \n",
       "CompTotal                 45914781878161738872227058510324868731367416738...   \n",
       "VCHostingPersonal use                                                    nan   \n",
       "VCHostingProfessional use                                                nan   \n",
       "WorkExp                                                                 8.71   \n",
       "ConvertedCompYearly                                                781413.24   \n",
       "\n",
       "                           min      25%      50%       75%  \\\n",
       "ResponseId                1.00 18317.75 36634.50  54951.25   \n",
       "CompTotal                 0.00 30000.00 77500.00 154000.00   \n",
       "VCHostingPersonal use      nan      nan      nan       nan   \n",
       "VCHostingProfessional use  nan      nan      nan       nan   \n",
       "WorkExp                   0.00     4.00     8.00     15.00   \n",
       "ConvertedCompYearly       1.00 35832.00 67845.00 120000.00   \n",
       "\n",
       "                                                                         max  \n",
       "ResponseId                                                          73268.00  \n",
       "CompTotal                 90000000000000006093448009035034248110033526180...  \n",
       "VCHostingPersonal use                                                    nan  \n",
       "VCHostingProfessional use                                                nan  \n",
       "WorkExp                                                                50.00  \n",
       "ConvertedCompYearly                                              50000000.00  "
      ]
     },
     "execution_count": 6,
     "metadata": {},
     "output_type": "execute_result"
    }
   ],
   "source": [
    "df_2022.describe().T"
   ]
  },
  {
   "cell_type": "markdown",
   "metadata": {},
   "source": [
    "### Grab interested columns and filter for country US, FTE, and set a minimum Salary"
   ]
  },
  {
   "cell_type": "code",
   "execution_count": 7,
   "metadata": {},
   "outputs": [],
   "source": [
    "cols = ['Employment','MainBranch','EdLevel','Country','ConvertedCompYearly','YearsCode','LearnCodeCoursesCert','LanguageHaveWorkedWith','DatabaseHaveWorkedWith','PlatformHaveWorkedWith'\n",
    "        ,'WebframeHaveWorkedWith','MiscTechHaveWorkedWith','ToolsTechHaveWorkedWith','NEWCollabToolsHaveWorkedWith'\n",
    "        ,'OpSysProfessional use','VersionControlSystem','OfficeStackSyncHaveWorkedWith','Age','Gender','Trans','Sexuality'\n",
    "        ,'Ethnicity','Accessibility','MentalHealth','WorkExp','DevType']"
   ]
  },
  {
   "cell_type": "code",
   "execution_count": 8,
   "metadata": {},
   "outputs": [],
   "source": [
    "df_clean = df_2022[cols]"
   ]
  },
  {
   "cell_type": "code",
   "execution_count": 9,
   "metadata": {},
   "outputs": [],
   "source": [
    "df_clean = df_clean[df_clean['Country']=='United States of America']"
   ]
  },
  {
   "cell_type": "code",
   "execution_count": 10,
   "metadata": {},
   "outputs": [
    {
     "data": {
      "text/plain": [
       "Employed, full-time                                                                                                                                                                                                     9614\n",
       "Student, full-time                                                                                                                                                                                                       949\n",
       "Independent contractor, freelancer, or self-employed                                                                                                                                                                     606\n",
       "Employed, full-time;Independent contractor, freelancer, or self-employed                                                                                                                                                 503\n",
       "Not employed, but looking for work                                                                                                                                                                                       256\n",
       "Student, full-time;Employed, part-time                                                                                                                                                                                   181\n",
       "Employed, full-time;Student, part-time                                                                                                                                                                                   156\n",
       "Not employed, and not looking for work                                                                                                                                                                                   149\n",
       "Employed, full-time;Student, full-time                                                                                                                                                                                   148\n",
       "Retired                                                                                                                                                                                                                  129\n",
       "I prefer not to say                                                                                                                                                                                                      125\n",
       "Employed, part-time                                                                                                                                                                                                      101\n",
       "Student, full-time;Not employed, but looking for work                                                                                                                                                                     91\n",
       "Student, part-time                                                                                                                                                                                                        68\n",
       "Student, full-time;Not employed, and not looking for work                                                                                                                                                                 66\n",
       "Student, full-time;Independent contractor, freelancer, or self-employed                                                                                                                                                   65\n",
       "Student, part-time;Employed, part-time                                                                                                                                                                                    35\n",
       "Not employed, but looking for work;Independent contractor, freelancer, or self-employed                                                                                                                                   33\n",
       "Independent contractor, freelancer, or self-employed;Employed, part-time                                                                                                                                                  30\n",
       "Student, part-time;Not employed, but looking for work                                                                                                                                                                     25\n",
       "Student, part-time;Independent contractor, freelancer, or self-employed                                                                                                                                                   19\n",
       "Employed, full-time;Student, part-time;Independent contractor, freelancer, or self-employed                                                                                                                               19\n",
       "Employed, full-time;Employed, part-time                                                                                                                                                                                   18\n",
       "Student, full-time;Not employed, but looking for work;Independent contractor, freelancer, or self-employed                                                                                                                14\n",
       "Student, full-time;Independent contractor, freelancer, or self-employed;Employed, part-time                                                                                                                               13\n",
       "Student, part-time;Not employed, and not looking for work                                                                                                                                                                  9\n",
       "Student, full-time;Student, part-time                                                                                                                                                                                      8\n",
       "Employed, full-time;Independent contractor, freelancer, or self-employed;Employed, part-time                                                                                                                               8\n",
       "Student, part-time;Not employed, but looking for work;Independent contractor, freelancer, or self-employed                                                                                                                 8\n",
       "Employed, full-time;Student, full-time;Independent contractor, freelancer, or self-employed                                                                                                                                8\n",
       "Independent contractor, freelancer, or self-employed;Retired                                                                                                                                                               7\n",
       "Not employed, but looking for work;Not employed, and not looking for work                                                                                                                                                  7\n",
       "Not employed, and not looking for work;Retired                                                                                                                                                                             7\n",
       "Student, part-time;Independent contractor, freelancer, or self-employed;Employed, part-time                                                                                                                                6\n",
       "Employed, full-time;Student, full-time;Employed, part-time                                                                                                                                                                 6\n",
       "Student, full-time;Independent contractor, freelancer, or self-employed;Not employed, and not looking for work                                                                                                             5\n",
       "Employed, part-time;Retired                                                                                                                                                                                                5\n",
       "Employed, full-time;Not employed, but looking for work                                                                                                                                                                     4\n",
       "Independent contractor, freelancer, or self-employed;Not employed, and not looking for work                                                                                                                                4\n",
       "Employed, full-time;Student, full-time;Student, part-time;Not employed, but looking for work;Independent contractor, freelancer, or self-employed;Employed, part-time;Not employed, and not looking for work;Retired       3\n",
       "Employed, full-time;Student, part-time;Employed, part-time                                                                                                                                                                 3\n",
       "Employed, full-time;Not employed, but looking for work;Independent contractor, freelancer, or self-employed                                                                                                                3\n",
       "Employed, full-time;Student, full-time;Student, part-time                                                                                                                                                                  2\n",
       "Student, full-time;Student, part-time;Not employed, but looking for work                                                                                                                                                   2\n",
       "Student, part-time;Not employed, but looking for work;Employed, part-time                                                                                                                                                  2\n",
       "Student, full-time;Not employed, but looking for work;Employed, part-time                                                                                                                                                  2\n",
       "Student, part-time;Retired                                                                                                                                                                                                 1\n",
       "Student, part-time;Independent contractor, freelancer, or self-employed;Retired                                                                                                                                            1\n",
       "Student, full-time;Student, part-time;Not employed, and not looking for work                                                                                                                                               1\n",
       "Not employed, but looking for work;Retired                                                                                                                                                                                 1\n",
       "Student, part-time;Independent contractor, freelancer, or self-employed;Not employed, and not looking for work                                                                                                             1\n",
       "Not employed, but looking for work;Independent contractor, freelancer, or self-employed;Employed, part-time                                                                                                                1\n",
       "Not employed, but looking for work;Independent contractor, freelancer, or self-employed;Not employed, and not looking for work                                                                                             1\n",
       "Employed, full-time;Retired                                                                                                                                                                                                1\n",
       "Employed, full-time;Independent contractor, freelancer, or self-employed;Retired                                                                                                                                           1\n",
       "Student, full-time;Not employed, but looking for work;Independent contractor, freelancer, or self-employed;Employed, part-time                                                                                             1\n",
       "Not employed, but looking for work;Independent contractor, freelancer, or self-employed;Retired                                                                                                                            1\n",
       "Name: Employment, dtype: int64"
      ]
     },
     "execution_count": 10,
     "metadata": {},
     "output_type": "execute_result"
    }
   ],
   "source": [
    "df_clean['Employment'].value_counts()"
   ]
  },
  {
   "cell_type": "markdown",
   "metadata": {},
   "source": [
    "- Since I'm only interested in FTE, I'll grab both Employed, full-time and Employed, full-time;Independent contractor, freelancer, or self-employed\n",
    "- Independent contractor, freelancer, or self-employed  doesn't mention if FT or PT so I won't include\n",
    "- \"Employed, full-time;Independent contractor, freelancer, or self-employed;Employed, part-time\" is not clear to me so I'll exlude these and similar\n",
    "- Also excluded are full time students and full time employed. "
   ]
  },
  {
   "cell_type": "code",
   "execution_count": 11,
   "metadata": {},
   "outputs": [],
   "source": [
    "df_clean = df_clean[(df_clean['Employment']=='Employed, full-time') | (df_clean['Employment']=='Employed, full-time;Independent contractor, freelancer, or self-employed')]"
   ]
  },
  {
   "cell_type": "code",
   "execution_count": 12,
   "metadata": {},
   "outputs": [
    {
     "data": {
      "text/plain": [
       "Employed, full-time                                                         9614\n",
       "Employed, full-time;Independent contractor, freelancer, or self-employed     503\n",
       "Name: Employment, dtype: int64"
      ]
     },
     "execution_count": 12,
     "metadata": {},
     "output_type": "execute_result"
    }
   ],
   "source": [
    "df_clean['Employment'].value_counts()"
   ]
  },
  {
   "cell_type": "code",
   "execution_count": 13,
   "metadata": {},
   "outputs": [
    {
     "data": {
      "image/png": "[encoded data removed]",
      "text/plain": [
       "<Figure size 720x720 with 1 Axes>"
      ]
     },
     "metadata": {
      "needs_background": "light"
     },
     "output_type": "display_data"
    }
   ],
   "source": [
    "#ConvertedCompYearly very skewed so lets remove upper ends\n",
    "df_clean[df_clean['ConvertedCompYearly']<400000].hist(column='ConvertedCompYearly',stacked=False, bins=10, figsize=(10, 10));"
   ]
  },
  {
   "cell_type": "code",
   "execution_count": 14,
   "metadata": {},
   "outputs": [
    {
     "data": {
      "text/plain": [
       "62026   35000000.00\n",
       "62223   22500000.00\n",
       "18922   22500000.00\n",
       "66495   18000000.00\n",
       "1290    15000000.00\n",
       "            ...    \n",
       "73229           nan\n",
       "73240           nan\n",
       "73254           nan\n",
       "73264           nan\n",
       "73265           nan\n",
       "Name: ConvertedCompYearly, Length: 10117, dtype: float64"
      ]
     },
     "execution_count": 14,
     "metadata": {},
     "output_type": "execute_result"
    }
   ],
   "source": [
    "df_clean['ConvertedCompYearly'].sort_values(ascending=False)"
   ]
  },
  {
   "cell_type": "code",
   "execution_count": 15,
   "metadata": {},
   "outputs": [
    {
     "data": {
      "text/plain": [
       "0.014529999011564694"
      ]
     },
     "execution_count": 15,
     "metadata": {},
     "output_type": "execute_result"
    }
   ],
   "source": [
    "df_clean[df_clean['ConvertedCompYearly']<50000].shape[0]/df_clean.shape[0]"
   ]
  },
  {
   "cell_type": "code",
   "execution_count": 16,
   "metadata": {},
   "outputs": [
    {
     "data": {
      "text/html": [
       "<div>\n",
       "<style scoped>\n",
       "    .dataframe tbody tr th:only-of-type {\n",
       "        vertical-align: middle;\n",
       "    }\n",
       "\n",
       "    .dataframe tbody tr th {\n",
       "        vertical-align: top;\n",
       "    }\n",
       "\n",
       "    .dataframe thead th {\n",
       "        text-align: right;\n",
       "    }\n",
       "</style>\n",
       "<table border=\"1\" class=\"dataframe\">\n",
       "  <thead>\n",
       "    <tr style=\"text-align: right;\">\n",
       "      <th></th>\n",
       "      <th>count</th>\n",
       "      <th>mean</th>\n",
       "      <th>std</th>\n",
       "      <th>min</th>\n",
       "      <th>25%</th>\n",
       "      <th>50%</th>\n",
       "      <th>75%</th>\n",
       "      <th>max</th>\n",
       "    </tr>\n",
       "  </thead>\n",
       "  <tbody>\n",
       "    <tr>\n",
       "      <th>ConvertedCompYearly</th>\n",
       "      <td>147.00</td>\n",
       "      <td>28489.56</td>\n",
       "      <td>17739.27</td>\n",
       "      <td>1.00</td>\n",
       "      <td>10250.00</td>\n",
       "      <td>35000.00</td>\n",
       "      <td>44000.00</td>\n",
       "      <td>49500.00</td>\n",
       "    </tr>\n",
       "    <tr>\n",
       "      <th>WorkExp</th>\n",
       "      <td>100.00</td>\n",
       "      <td>9.74</td>\n",
       "      <td>9.57</td>\n",
       "      <td>1.00</td>\n",
       "      <td>3.00</td>\n",
       "      <td>6.00</td>\n",
       "      <td>10.25</td>\n",
       "      <td>40.00</td>\n",
       "    </tr>\n",
       "  </tbody>\n",
       "</table>\n",
       "</div>"
      ],
      "text/plain": [
       "                     count     mean      std  min      25%      50%      75%  \\\n",
       "ConvertedCompYearly 147.00 28489.56 17739.27 1.00 10250.00 35000.00 44000.00   \n",
       "WorkExp             100.00     9.74     9.57 1.00     3.00     6.00    10.25   \n",
       "\n",
       "                         max  \n",
       "ConvertedCompYearly 49500.00  \n",
       "WorkExp                40.00  "
      ]
     },
     "execution_count": 16,
     "metadata": {},
     "output_type": "execute_result"
    }
   ],
   "source": [
    "df_clean[df_clean['ConvertedCompYearly']<50000].describe().T"
   ]
  },
  {
   "cell_type": "code",
   "execution_count": 17,
   "metadata": {},
   "outputs": [
    {
     "data": {
      "text/plain": [
       "0.061282989028368096"
      ]
     },
     "execution_count": 17,
     "metadata": {},
     "output_type": "execute_result"
    }
   ],
   "source": [
    "df_clean[df_clean['ConvertedCompYearly']>400000].shape[0]/df_clean.shape[0]"
   ]
  },
  {
   "cell_type": "code",
   "execution_count": 18,
   "metadata": {},
   "outputs": [
    {
     "data": {
      "text/html": [
       "<div>\n",
       "<style scoped>\n",
       "    .dataframe tbody tr th:only-of-type {\n",
       "        vertical-align: middle;\n",
       "    }\n",
       "\n",
       "    .dataframe tbody tr th {\n",
       "        vertical-align: top;\n",
       "    }\n",
       "\n",
       "    .dataframe thead th {\n",
       "        text-align: right;\n",
       "    }\n",
       "</style>\n",
       "<table border=\"1\" class=\"dataframe\">\n",
       "  <thead>\n",
       "    <tr style=\"text-align: right;\">\n",
       "      <th></th>\n",
       "      <th>count</th>\n",
       "      <th>mean</th>\n",
       "      <th>std</th>\n",
       "      <th>min</th>\n",
       "      <th>25%</th>\n",
       "      <th>50%</th>\n",
       "      <th>75%</th>\n",
       "      <th>max</th>\n",
       "    </tr>\n",
       "  </thead>\n",
       "  <tbody>\n",
       "    <tr>\n",
       "      <th>ConvertedCompYearly</th>\n",
       "      <td>620.00</td>\n",
       "      <td>3272963.65</td>\n",
       "      <td>3504020.64</td>\n",
       "      <td>401600.00</td>\n",
       "      <td>825000.00</td>\n",
       "      <td>1800000.00</td>\n",
       "      <td>5000000.00</td>\n",
       "      <td>35000000.00</td>\n",
       "    </tr>\n",
       "    <tr>\n",
       "      <th>WorkExp</th>\n",
       "      <td>398.00</td>\n",
       "      <td>12.83</td>\n",
       "      <td>9.54</td>\n",
       "      <td>0.00</td>\n",
       "      <td>5.25</td>\n",
       "      <td>10.00</td>\n",
       "      <td>18.75</td>\n",
       "      <td>46.00</td>\n",
       "    </tr>\n",
       "  </tbody>\n",
       "</table>\n",
       "</div>"
      ],
      "text/plain": [
       "                     count       mean        std       min       25%  \\\n",
       "ConvertedCompYearly 620.00 3272963.65 3504020.64 401600.00 825000.00   \n",
       "WorkExp             398.00      12.83       9.54      0.00      5.25   \n",
       "\n",
       "                           50%        75%         max  \n",
       "ConvertedCompYearly 1800000.00 5000000.00 35000000.00  \n",
       "WorkExp                  10.00      18.75       46.00  "
      ]
     },
     "execution_count": 18,
     "metadata": {},
     "output_type": "execute_result"
    }
   ],
   "source": [
    "df_clean[df_clean['ConvertedCompYearly']>400000].describe().T"
   ]
  },
  {
   "cell_type": "markdown",
   "metadata": {},
   "source": [
    "- FTE US Devs making <50k represent 1.5% of data and >400k represent 6.1%. I'm ok dropping since my focus is understanding the mid - high end ranges"
   ]
  },
  {
   "cell_type": "code",
   "execution_count": 19,
   "metadata": {},
   "outputs": [],
   "source": [
    "df_clean = df_clean[(df_clean['ConvertedCompYearly']>=50000) & (df_clean['ConvertedCompYearly']<=400000)]"
   ]
  },
  {
   "cell_type": "code",
   "execution_count": 20,
   "metadata": {},
   "outputs": [
    {
     "data": {
      "text/plain": [
       "(7524, 26)"
      ]
     },
     "execution_count": 20,
     "metadata": {},
     "output_type": "execute_result"
    }
   ],
   "source": [
    "df_clean.shape"
   ]
  },
  {
   "cell_type": "code",
   "execution_count": 21,
   "metadata": {},
   "outputs": [
    {
     "data": {
      "text/plain": [
       "Employment                          0\n",
       "MainBranch                          0\n",
       "EdLevel                             0\n",
       "Country                             0\n",
       "ConvertedCompYearly                 0\n",
       "YearsCode                          10\n",
       "LearnCodeCoursesCert             5077\n",
       "LanguageHaveWorkedWith             13\n",
       "DatabaseHaveWorkedWith           1026\n",
       "PlatformHaveWorkedWith           1572\n",
       "WebframeHaveWorkedWith           1726\n",
       "MiscTechHaveWorkedWith           2793\n",
       "ToolsTechHaveWorkedWith          1499\n",
       "NEWCollabToolsHaveWorkedWith       43\n",
       "OpSysProfessional use             222\n",
       "VersionControlSystem                4\n",
       "OfficeStackSyncHaveWorkedWith     122\n",
       "Age                                25\n",
       "Gender                             39\n",
       "Trans                              46\n",
       "Sexuality                         217\n",
       "Ethnicity                          97\n",
       "Accessibility                     228\n",
       "MentalHealth                      256\n",
       "WorkExp                          2141\n",
       "DevType                             2\n",
       "dtype: int64"
      ]
     },
     "execution_count": 21,
     "metadata": {},
     "output_type": "execute_result"
    }
   ],
   "source": [
    "df_clean.isnull().sum()"
   ]
  },
  {
   "cell_type": "code",
   "execution_count": 22,
   "metadata": {},
   "outputs": [
    {
     "data": {
      "text/plain": [
       "count     7524.00\n",
       "mean    151857.71\n",
       "std      64993.73\n",
       "min      50000.00\n",
       "25%     105000.00\n",
       "50%     140000.00\n",
       "75%     180000.00\n",
       "max     400000.00\n",
       "Name: ConvertedCompYearly, dtype: float64"
      ]
     },
     "execution_count": 22,
     "metadata": {},
     "output_type": "execute_result"
    }
   ],
   "source": [
    "df_clean['ConvertedCompYearly'].describe()"
   ]
  },
  {
   "cell_type": "code",
   "execution_count": 23,
   "metadata": {},
   "outputs": [
    {
     "data": {
      "text/html": [
       "<div>\n",
       "<style scoped>\n",
       "    .dataframe tbody tr th:only-of-type {\n",
       "        vertical-align: middle;\n",
       "    }\n",
       "\n",
       "    .dataframe tbody tr th {\n",
       "        vertical-align: top;\n",
       "    }\n",
       "\n",
       "    .dataframe thead th {\n",
       "        text-align: right;\n",
       "    }\n",
       "</style>\n",
       "<table border=\"1\" class=\"dataframe\">\n",
       "  <thead>\n",
       "    <tr style=\"text-align: right;\">\n",
       "      <th></th>\n",
       "      <th>Employment</th>\n",
       "      <th>MainBranch</th>\n",
       "      <th>EdLevel</th>\n",
       "      <th>Country</th>\n",
       "      <th>ConvertedCompYearly</th>\n",
       "      <th>YearsCode</th>\n",
       "      <th>LearnCodeCoursesCert</th>\n",
       "      <th>LanguageHaveWorkedWith</th>\n",
       "      <th>DatabaseHaveWorkedWith</th>\n",
       "      <th>PlatformHaveWorkedWith</th>\n",
       "      <th>...</th>\n",
       "      <th>OfficeStackSyncHaveWorkedWith</th>\n",
       "      <th>Age</th>\n",
       "      <th>Gender</th>\n",
       "      <th>Trans</th>\n",
       "      <th>Sexuality</th>\n",
       "      <th>Ethnicity</th>\n",
       "      <th>Accessibility</th>\n",
       "      <th>MentalHealth</th>\n",
       "      <th>WorkExp</th>\n",
       "      <th>DevType</th>\n",
       "    </tr>\n",
       "  </thead>\n",
       "  <tbody>\n",
       "    <tr>\n",
       "      <th>11</th>\n",
       "      <td>Employed, full-time;Independent contractor, fr...</td>\n",
       "      <td>I am not primarily a developer, but I write co...</td>\n",
       "      <td>Bachelor’s degree (B.A., B.S., B.Eng., etc.)</td>\n",
       "      <td>United States of America</td>\n",
       "      <td>194400.00</td>\n",
       "      <td>12</td>\n",
       "      <td>NaN</td>\n",
       "      <td>C#;HTML/CSS;JavaScript;PowerShell;Python;Rust;SQL</td>\n",
       "      <td>Couchbase;CouchDB;Microsoft SQL Server;MongoDB...</td>\n",
       "      <td>AWS;Microsoft Azure</td>\n",
       "      <td>...</td>\n",
       "      <td>Cisco Webex Teams;Google Chat;Microsoft Teams;...</td>\n",
       "      <td>35-44 years old</td>\n",
       "      <td>Man</td>\n",
       "      <td>No</td>\n",
       "      <td>Straight / Heterosexual</td>\n",
       "      <td>White</td>\n",
       "      <td>None of the above</td>\n",
       "      <td>I have a mood or emotional disorder (e.g., dep...</td>\n",
       "      <td>14.00</td>\n",
       "      <td>Engineering manager</td>\n",
       "    </tr>\n",
       "    <tr>\n",
       "      <th>12</th>\n",
       "      <td>Employed, full-time</td>\n",
       "      <td>I am a developer by profession</td>\n",
       "      <td>Bachelor’s degree (B.A., B.S., B.Eng., etc.)</td>\n",
       "      <td>United States of America</td>\n",
       "      <td>65000.00</td>\n",
       "      <td>12</td>\n",
       "      <td>NaN</td>\n",
       "      <td>C;HTML/CSS;Rust;SQL;Swift;TypeScript</td>\n",
       "      <td>PostgreSQL</td>\n",
       "      <td>AWS</td>\n",
       "      <td>...</td>\n",
       "      <td>Microsoft Teams;Slack;Zoom</td>\n",
       "      <td>25-34 years old</td>\n",
       "      <td>Man</td>\n",
       "      <td>No</td>\n",
       "      <td>Straight / Heterosexual</td>\n",
       "      <td>White</td>\n",
       "      <td>None of the above</td>\n",
       "      <td>None of the above</td>\n",
       "      <td>5.00</td>\n",
       "      <td>Developer, full-stack</td>\n",
       "    </tr>\n",
       "    <tr>\n",
       "      <th>14</th>\n",
       "      <td>Employed, full-time;Independent contractor, fr...</td>\n",
       "      <td>I am a developer by profession</td>\n",
       "      <td>Master’s degree (M.A., M.S., M.Eng., MBA, etc.)</td>\n",
       "      <td>United States of America</td>\n",
       "      <td>110000.00</td>\n",
       "      <td>11</td>\n",
       "      <td>NaN</td>\n",
       "      <td>HTML/CSS;JavaScript;PHP;Python;R;Ruby;Scala</td>\n",
       "      <td>Elasticsearch;MongoDB;Neo4j;PostgreSQL</td>\n",
       "      <td>AWS;DigitalOcean;Heroku</td>\n",
       "      <td>...</td>\n",
       "      <td>Microsoft Teams;Slack;Zoom</td>\n",
       "      <td>25-34 years old</td>\n",
       "      <td>Man</td>\n",
       "      <td>No</td>\n",
       "      <td>Straight / Heterosexual</td>\n",
       "      <td>White</td>\n",
       "      <td>None of the above</td>\n",
       "      <td>None of the above</td>\n",
       "      <td>5.00</td>\n",
       "      <td>Developer, full-stack;Academic researcher;DevO...</td>\n",
       "    </tr>\n",
       "    <tr>\n",
       "      <th>26</th>\n",
       "      <td>Employed, full-time</td>\n",
       "      <td>I am a developer by profession</td>\n",
       "      <td>Bachelor’s degree (B.A., B.S., B.Eng., etc.)</td>\n",
       "      <td>United States of America</td>\n",
       "      <td>106960.00</td>\n",
       "      <td>10</td>\n",
       "      <td>NaN</td>\n",
       "      <td>Bash/Shell;Groovy;HTML/CSS;Java;JavaScript;SQL</td>\n",
       "      <td>MongoDB;MySQL</td>\n",
       "      <td>AWS</td>\n",
       "      <td>...</td>\n",
       "      <td>Microsoft Teams;Slack;Zoom</td>\n",
       "      <td>25-34 years old</td>\n",
       "      <td>Man</td>\n",
       "      <td>No</td>\n",
       "      <td>Straight / Heterosexual</td>\n",
       "      <td>White;North American</td>\n",
       "      <td>None of the above</td>\n",
       "      <td>None of the above</td>\n",
       "      <td>nan</td>\n",
       "      <td>Developer, full-stack;Developer, back-end</td>\n",
       "    </tr>\n",
       "    <tr>\n",
       "      <th>28</th>\n",
       "      <td>Employed, full-time</td>\n",
       "      <td>I am a developer by profession</td>\n",
       "      <td>Master’s degree (M.A., M.S., M.Eng., MBA, etc.)</td>\n",
       "      <td>United States of America</td>\n",
       "      <td>130000.00</td>\n",
       "      <td>20</td>\n",
       "      <td>NaN</td>\n",
       "      <td>C;C++</td>\n",
       "      <td>NaN</td>\n",
       "      <td>NaN</td>\n",
       "      <td>...</td>\n",
       "      <td>Microsoft Teams</td>\n",
       "      <td>35-44 years old</td>\n",
       "      <td>Man</td>\n",
       "      <td>No</td>\n",
       "      <td>Straight / Heterosexual</td>\n",
       "      <td>Prefer not to say</td>\n",
       "      <td>None of the above</td>\n",
       "      <td>None of the above</td>\n",
       "      <td>14.00</td>\n",
       "      <td>Developer, desktop or enterprise applications;...</td>\n",
       "    </tr>\n",
       "  </tbody>\n",
       "</table>\n",
       "<p>5 rows × 26 columns</p>\n",
       "</div>"
      ],
      "text/plain": [
       "                                           Employment  \\\n",
       "11  Employed, full-time;Independent contractor, fr...   \n",
       "12                                Employed, full-time   \n",
       "14  Employed, full-time;Independent contractor, fr...   \n",
       "26                                Employed, full-time   \n",
       "28                                Employed, full-time   \n",
       "\n",
       "                                           MainBranch  \\\n",
       "11  I am not primarily a developer, but I write co...   \n",
       "12                     I am a developer by profession   \n",
       "14                     I am a developer by profession   \n",
       "26                     I am a developer by profession   \n",
       "28                     I am a developer by profession   \n",
       "\n",
       "                                            EdLevel                   Country  \\\n",
       "11     Bachelor’s degree (B.A., B.S., B.Eng., etc.)  United States of America   \n",
       "12     Bachelor’s degree (B.A., B.S., B.Eng., etc.)  United States of America   \n",
       "14  Master’s degree (M.A., M.S., M.Eng., MBA, etc.)  United States of America   \n",
       "26     Bachelor’s degree (B.A., B.S., B.Eng., etc.)  United States of America   \n",
       "28  Master’s degree (M.A., M.S., M.Eng., MBA, etc.)  United States of America   \n",
       "\n",
       "    ConvertedCompYearly YearsCode LearnCodeCoursesCert  \\\n",
       "11            194400.00        12                  NaN   \n",
       "12             65000.00        12                  NaN   \n",
       "14            110000.00        11                  NaN   \n",
       "26            106960.00        10                  NaN   \n",
       "28            130000.00        20                  NaN   \n",
       "\n",
       "                               LanguageHaveWorkedWith  \\\n",
       "11  C#;HTML/CSS;JavaScript;PowerShell;Python;Rust;SQL   \n",
       "12               C;HTML/CSS;Rust;SQL;Swift;TypeScript   \n",
       "14        HTML/CSS;JavaScript;PHP;Python;R;Ruby;Scala   \n",
       "26     Bash/Shell;Groovy;HTML/CSS;Java;JavaScript;SQL   \n",
       "28                                              C;C++   \n",
       "\n",
       "                               DatabaseHaveWorkedWith  \\\n",
       "11  Couchbase;CouchDB;Microsoft SQL Server;MongoDB...   \n",
       "12                                         PostgreSQL   \n",
       "14             Elasticsearch;MongoDB;Neo4j;PostgreSQL   \n",
       "26                                      MongoDB;MySQL   \n",
       "28                                                NaN   \n",
       "\n",
       "     PlatformHaveWorkedWith  ...  \\\n",
       "11      AWS;Microsoft Azure  ...   \n",
       "12                      AWS  ...   \n",
       "14  AWS;DigitalOcean;Heroku  ...   \n",
       "26                      AWS  ...   \n",
       "28                      NaN  ...   \n",
       "\n",
       "                        OfficeStackSyncHaveWorkedWith              Age Gender  \\\n",
       "11  Cisco Webex Teams;Google Chat;Microsoft Teams;...  35-44 years old    Man   \n",
       "12                         Microsoft Teams;Slack;Zoom  25-34 years old    Man   \n",
       "14                         Microsoft Teams;Slack;Zoom  25-34 years old    Man   \n",
       "26                         Microsoft Teams;Slack;Zoom  25-34 years old    Man   \n",
       "28                                    Microsoft Teams  35-44 years old    Man   \n",
       "\n",
       "   Trans                Sexuality             Ethnicity      Accessibility  \\\n",
       "11    No  Straight / Heterosexual                 White  None of the above   \n",
       "12    No  Straight / Heterosexual                 White  None of the above   \n",
       "14    No  Straight / Heterosexual                 White  None of the above   \n",
       "26    No  Straight / Heterosexual  White;North American  None of the above   \n",
       "28    No  Straight / Heterosexual     Prefer not to say  None of the above   \n",
       "\n",
       "                                         MentalHealth WorkExp  \\\n",
       "11  I have a mood or emotional disorder (e.g., dep...   14.00   \n",
       "12                                  None of the above    5.00   \n",
       "14                                  None of the above    5.00   \n",
       "26                                  None of the above     nan   \n",
       "28                                  None of the above   14.00   \n",
       "\n",
       "                                              DevType  \n",
       "11                                Engineering manager  \n",
       "12                              Developer, full-stack  \n",
       "14  Developer, full-stack;Academic researcher;DevO...  \n",
       "26          Developer, full-stack;Developer, back-end  \n",
       "28  Developer, desktop or enterprise applications;...  \n",
       "\n",
       "[5 rows x 26 columns]"
      ]
     },
     "execution_count": 23,
     "metadata": {},
     "output_type": "execute_result"
    }
   ],
   "source": [
    "df_clean.head()"
   ]
  },
  {
   "cell_type": "code",
   "execution_count": 24,
   "metadata": {},
   "outputs": [
    {
     "data": {
      "image/png": "[encoded data removed]",
      "text/plain": [
       "<Figure size 720x720 with 1 Axes>"
      ]
     },
     "metadata": {
      "needs_background": "light"
     },
     "output_type": "display_data"
    }
   ],
   "source": [
    "df_clean.hist(column='WorkExp',stacked=False, bins=10, figsize=(10, 10));"
   ]
  },
  {
   "cell_type": "code",
   "execution_count": 25,
   "metadata": {},
   "outputs": [
    {
     "data": {
      "text/plain": [
       "count   5383.00\n",
       "mean      13.43\n",
       "std       10.10\n",
       "min        0.00\n",
       "25%        6.00\n",
       "50%       10.00\n",
       "75%       20.00\n",
       "max       50.00\n",
       "Name: WorkExp, dtype: float64"
      ]
     },
     "execution_count": 25,
     "metadata": {},
     "output_type": "execute_result"
    }
   ],
   "source": [
    "df_clean['WorkExp'].describe().T"
   ]
  },
  {
   "cell_type": "markdown",
   "metadata": {},
   "source": [
    "### Fix Data Types"
   ]
  },
  {
   "cell_type": "code",
   "execution_count": 26,
   "metadata": {},
   "outputs": [
    {
     "data": {
      "text/plain": [
       "Employment                        object\n",
       "MainBranch                        object\n",
       "EdLevel                           object\n",
       "Country                           object\n",
       "ConvertedCompYearly              float64\n",
       "YearsCode                         object\n",
       "LearnCodeCoursesCert              object\n",
       "LanguageHaveWorkedWith            object\n",
       "DatabaseHaveWorkedWith            object\n",
       "PlatformHaveWorkedWith            object\n",
       "WebframeHaveWorkedWith            object\n",
       "MiscTechHaveWorkedWith            object\n",
       "ToolsTechHaveWorkedWith           object\n",
       "NEWCollabToolsHaveWorkedWith      object\n",
       "OpSysProfessional use             object\n",
       "VersionControlSystem              object\n",
       "OfficeStackSyncHaveWorkedWith     object\n",
       "Age                               object\n",
       "Gender                            object\n",
       "Trans                             object\n",
       "Sexuality                         object\n",
       "Ethnicity                         object\n",
       "Accessibility                     object\n",
       "MentalHealth                      object\n",
       "WorkExp                          float64\n",
       "DevType                           object\n",
       "dtype: object"
      ]
     },
     "execution_count": 26,
     "metadata": {},
     "output_type": "execute_result"
    }
   ],
   "source": [
    "df_clean.dtypes"
   ]
  },
  {
   "cell_type": "markdown",
   "metadata": {},
   "source": [
    "- a few columns should be numeric"
   ]
  },
  {
   "cell_type": "code",
   "execution_count": 27,
   "metadata": {},
   "outputs": [
    {
     "data": {
      "text/plain": [
       "46043    25-34 years old\n",
       "51053    35-44 years old\n",
       "15317    25-34 years old\n",
       "39846    35-44 years old\n",
       "66722    25-34 years old\n",
       "16203    18-24 years old\n",
       "14117    45-54 years old\n",
       "11378    18-24 years old\n",
       "11365    25-34 years old\n",
       "53585    25-34 years old\n",
       "Name: Age, dtype: object"
      ]
     },
     "execution_count": 27,
     "metadata": {},
     "output_type": "execute_result"
    }
   ],
   "source": [
    "df_clean['Age'].sample(10)"
   ]
  },
  {
   "cell_type": "code",
   "execution_count": 28,
   "metadata": {},
   "outputs": [
    {
     "data": {
      "text/plain": [
       "51915    25\n",
       "39905     9\n",
       "14002     7\n",
       "38403    20\n",
       "63978    24\n",
       "23399    21\n",
       "14315     7\n",
       "14949     8\n",
       "64095    20\n",
       "39525     8\n",
       "Name: YearsCode, dtype: object"
      ]
     },
     "execution_count": 28,
     "metadata": {},
     "output_type": "execute_result"
    }
   ],
   "source": [
    "df_clean['YearsCode'].sample(10)"
   ]
  },
  {
   "cell_type": "code",
   "execution_count": 29,
   "metadata": {},
   "outputs": [
    {
     "data": {
      "text/plain": [
       "38703     nan\n",
       "24184   30.00\n",
       "21578     nan\n",
       "56954    2.00\n",
       "40510    5.00\n",
       "23043     nan\n",
       "70340    5.00\n",
       "39258     nan\n",
       "13404     nan\n",
       "11080     nan\n",
       "Name: WorkExp, dtype: float64"
      ]
     },
     "execution_count": 29,
     "metadata": {},
     "output_type": "execute_result"
    }
   ],
   "source": [
    "df_clean['WorkExp'].sample(10)"
   ]
  },
  {
   "cell_type": "markdown",
   "metadata": {},
   "source": [
    "- Age: we can either leave as is or recatorgize as numeric by taking median. Better to leave as is.\n",
    "- Years code: good to convert to numeric\n",
    "- WorkExp: good to convert to numeric"
   ]
  },
  {
   "cell_type": "code",
   "execution_count": 30,
   "metadata": {},
   "outputs": [],
   "source": [
    "df_clean['YearsCode'] = pd.to_numeric(df_clean['YearsCode'], errors='coerce')\n",
    "df_clean['WorkExp'] = pd.to_numeric(df_clean['WorkExp'], errors='coerce')"
   ]
  },
  {
   "cell_type": "code",
   "execution_count": 31,
   "metadata": {},
   "outputs": [
    {
     "data": {
      "text/plain": [
       "Employment                          0\n",
       "MainBranch                          0\n",
       "EdLevel                             0\n",
       "Country                             0\n",
       "ConvertedCompYearly                 0\n",
       "YearsCode                          37\n",
       "LearnCodeCoursesCert             5077\n",
       "LanguageHaveWorkedWith             13\n",
       "DatabaseHaveWorkedWith           1026\n",
       "PlatformHaveWorkedWith           1572\n",
       "WebframeHaveWorkedWith           1726\n",
       "MiscTechHaveWorkedWith           2793\n",
       "ToolsTechHaveWorkedWith          1499\n",
       "NEWCollabToolsHaveWorkedWith       43\n",
       "OpSysProfessional use             222\n",
       "VersionControlSystem                4\n",
       "OfficeStackSyncHaveWorkedWith     122\n",
       "Age                                25\n",
       "Gender                             39\n",
       "Trans                              46\n",
       "Sexuality                         217\n",
       "Ethnicity                          97\n",
       "Accessibility                     228\n",
       "MentalHealth                      256\n",
       "WorkExp                          2141\n",
       "DevType                             2\n",
       "dtype: int64"
      ]
     },
     "execution_count": 31,
     "metadata": {},
     "output_type": "execute_result"
    }
   ],
   "source": [
    "df_clean.isnull().sum()"
   ]
  },
  {
   "cell_type": "markdown",
   "metadata": {},
   "source": [
    "### Feature Engineering and EDA\n",
    "Many data points contain lists of items. We can convert to n_items which might give us insight to quantitiy of metrics. \n",
    "EG: LanguageHaveWorkedWith-> C++;Python;VBA\t-> 3"
   ]
  },
  {
   "cell_type": "code",
   "execution_count": 32,
   "metadata": {},
   "outputs": [],
   "source": [
    "cols_n = []"
   ]
  },
  {
   "cell_type": "code",
   "execution_count": 33,
   "metadata": {},
   "outputs": [],
   "source": [
    "#convert string data to counts\n",
    "df_clean['n_cert'] = df_clean['LearnCodeCoursesCert'].str.split(pat=\";\").str.len()\n",
    "df_clean['n_lang'] = df_clean['LanguageHaveWorkedWith'].str.split(pat=\";\").str.len()\n",
    "df_clean['n_db'] = df_clean['DatabaseHaveWorkedWith'].str.split(pat=\";\").str.len()\n",
    "df_clean['n_platform'] = df_clean['PlatformHaveWorkedWith'].str.split(pat=\";\").str.len()\n",
    "df_clean['n_webframe'] = df_clean['WebframeHaveWorkedWith'].str.split(pat=\";\").str.len()\n",
    "df_clean['n_msic'] = df_clean['MiscTechHaveWorkedWith'].str.split(pat=\";\").str.len()\n",
    "df_clean['n_vcs'] = df_clean['VersionControlSystem'].str.split(pat=\";\").str.len()\n",
    "df_clean['n_officestack'] = df_clean['OfficeStackSyncHaveWorkedWith'].str.split(pat=\";\").str.len()\n",
    "df_clean['n_devtitles'] = df_clean['DevType'].str.split(pat=\";\").str.len()"
   ]
  },
  {
   "cell_type": "code",
   "execution_count": 34,
   "metadata": {},
   "outputs": [
    {
     "data": {
      "text/html": [
       "<div>\n",
       "<style scoped>\n",
       "    .dataframe tbody tr th:only-of-type {\n",
       "        vertical-align: middle;\n",
       "    }\n",
       "\n",
       "    .dataframe tbody tr th {\n",
       "        vertical-align: top;\n",
       "    }\n",
       "\n",
       "    .dataframe thead th {\n",
       "        text-align: right;\n",
       "    }\n",
       "</style>\n",
       "<table border=\"1\" class=\"dataframe\">\n",
       "  <thead>\n",
       "    <tr style=\"text-align: right;\">\n",
       "      <th></th>\n",
       "      <th>Employment</th>\n",
       "      <th>MainBranch</th>\n",
       "      <th>EdLevel</th>\n",
       "      <th>Country</th>\n",
       "      <th>ConvertedCompYearly</th>\n",
       "      <th>YearsCode</th>\n",
       "      <th>LearnCodeCoursesCert</th>\n",
       "      <th>LanguageHaveWorkedWith</th>\n",
       "      <th>DatabaseHaveWorkedWith</th>\n",
       "      <th>PlatformHaveWorkedWith</th>\n",
       "      <th>...</th>\n",
       "      <th>DevType</th>\n",
       "      <th>n_cert</th>\n",
       "      <th>n_lang</th>\n",
       "      <th>n_db</th>\n",
       "      <th>n_platform</th>\n",
       "      <th>n_webframe</th>\n",
       "      <th>n_msic</th>\n",
       "      <th>n_vcs</th>\n",
       "      <th>n_officestack</th>\n",
       "      <th>n_devtitles</th>\n",
       "    </tr>\n",
       "  </thead>\n",
       "  <tbody>\n",
       "    <tr>\n",
       "      <th>11</th>\n",
       "      <td>Employed, full-time;Independent contractor, fr...</td>\n",
       "      <td>I am not primarily a developer, but I write co...</td>\n",
       "      <td>Bachelor’s degree (B.A., B.S., B.Eng., etc.)</td>\n",
       "      <td>United States of America</td>\n",
       "      <td>194400.00</td>\n",
       "      <td>12.00</td>\n",
       "      <td>NaN</td>\n",
       "      <td>C#;HTML/CSS;JavaScript;PowerShell;Python;Rust;SQL</td>\n",
       "      <td>Couchbase;CouchDB;Microsoft SQL Server;MongoDB...</td>\n",
       "      <td>AWS;Microsoft Azure</td>\n",
       "      <td>...</td>\n",
       "      <td>Engineering manager</td>\n",
       "      <td>nan</td>\n",
       "      <td>7.00</td>\n",
       "      <td>7.00</td>\n",
       "      <td>2.00</td>\n",
       "      <td>5.00</td>\n",
       "      <td>8.00</td>\n",
       "      <td>1.00</td>\n",
       "      <td>6.00</td>\n",
       "      <td>1.00</td>\n",
       "    </tr>\n",
       "    <tr>\n",
       "      <th>12</th>\n",
       "      <td>Employed, full-time</td>\n",
       "      <td>I am a developer by profession</td>\n",
       "      <td>Bachelor’s degree (B.A., B.S., B.Eng., etc.)</td>\n",
       "      <td>United States of America</td>\n",
       "      <td>65000.00</td>\n",
       "      <td>12.00</td>\n",
       "      <td>NaN</td>\n",
       "      <td>C;HTML/CSS;Rust;SQL;Swift;TypeScript</td>\n",
       "      <td>PostgreSQL</td>\n",
       "      <td>AWS</td>\n",
       "      <td>...</td>\n",
       "      <td>Developer, full-stack</td>\n",
       "      <td>nan</td>\n",
       "      <td>6.00</td>\n",
       "      <td>1.00</td>\n",
       "      <td>1.00</td>\n",
       "      <td>1.00</td>\n",
       "      <td>1.00</td>\n",
       "      <td>1.00</td>\n",
       "      <td>3.00</td>\n",
       "      <td>1.00</td>\n",
       "    </tr>\n",
       "    <tr>\n",
       "      <th>14</th>\n",
       "      <td>Employed, full-time;Independent contractor, fr...</td>\n",
       "      <td>I am a developer by profession</td>\n",
       "      <td>Master’s degree (M.A., M.S., M.Eng., MBA, etc.)</td>\n",
       "      <td>United States of America</td>\n",
       "      <td>110000.00</td>\n",
       "      <td>11.00</td>\n",
       "      <td>NaN</td>\n",
       "      <td>HTML/CSS;JavaScript;PHP;Python;R;Ruby;Scala</td>\n",
       "      <td>Elasticsearch;MongoDB;Neo4j;PostgreSQL</td>\n",
       "      <td>AWS;DigitalOcean;Heroku</td>\n",
       "      <td>...</td>\n",
       "      <td>Developer, full-stack;Academic researcher;DevO...</td>\n",
       "      <td>nan</td>\n",
       "      <td>7.00</td>\n",
       "      <td>4.00</td>\n",
       "      <td>3.00</td>\n",
       "      <td>6.00</td>\n",
       "      <td>5.00</td>\n",
       "      <td>1.00</td>\n",
       "      <td>3.00</td>\n",
       "      <td>3.00</td>\n",
       "    </tr>\n",
       "    <tr>\n",
       "      <th>26</th>\n",
       "      <td>Employed, full-time</td>\n",
       "      <td>I am a developer by profession</td>\n",
       "      <td>Bachelor’s degree (B.A., B.S., B.Eng., etc.)</td>\n",
       "      <td>United States of America</td>\n",
       "      <td>106960.00</td>\n",
       "      <td>10.00</td>\n",
       "      <td>NaN</td>\n",
       "      <td>Bash/Shell;Groovy;HTML/CSS;Java;JavaScript;SQL</td>\n",
       "      <td>MongoDB;MySQL</td>\n",
       "      <td>AWS</td>\n",
       "      <td>...</td>\n",
       "      <td>Developer, full-stack;Developer, back-end</td>\n",
       "      <td>nan</td>\n",
       "      <td>6.00</td>\n",
       "      <td>2.00</td>\n",
       "      <td>1.00</td>\n",
       "      <td>1.00</td>\n",
       "      <td>nan</td>\n",
       "      <td>1.00</td>\n",
       "      <td>3.00</td>\n",
       "      <td>2.00</td>\n",
       "    </tr>\n",
       "    <tr>\n",
       "      <th>28</th>\n",
       "      <td>Employed, full-time</td>\n",
       "      <td>I am a developer by profession</td>\n",
       "      <td>Master’s degree (M.A., M.S., M.Eng., MBA, etc.)</td>\n",
       "      <td>United States of America</td>\n",
       "      <td>130000.00</td>\n",
       "      <td>20.00</td>\n",
       "      <td>NaN</td>\n",
       "      <td>C;C++</td>\n",
       "      <td>NaN</td>\n",
       "      <td>NaN</td>\n",
       "      <td>...</td>\n",
       "      <td>Developer, desktop or enterprise applications;...</td>\n",
       "      <td>nan</td>\n",
       "      <td>2.00</td>\n",
       "      <td>nan</td>\n",
       "      <td>nan</td>\n",
       "      <td>nan</td>\n",
       "      <td>1.00</td>\n",
       "      <td>1.00</td>\n",
       "      <td>1.00</td>\n",
       "      <td>3.00</td>\n",
       "    </tr>\n",
       "  </tbody>\n",
       "</table>\n",
       "<p>5 rows × 35 columns</p>\n",
       "</div>"
      ],
      "text/plain": [
       "                                           Employment  \\\n",
       "11  Employed, full-time;Independent contractor, fr...   \n",
       "12                                Employed, full-time   \n",
       "14  Employed, full-time;Independent contractor, fr...   \n",
       "26                                Employed, full-time   \n",
       "28                                Employed, full-time   \n",
       "\n",
       "                                           MainBranch  \\\n",
       "11  I am not primarily a developer, but I write co...   \n",
       "12                     I am a developer by profession   \n",
       "14                     I am a developer by profession   \n",
       "26                     I am a developer by profession   \n",
       "28                     I am a developer by profession   \n",
       "\n",
       "                                            EdLevel                   Country  \\\n",
       "11     Bachelor’s degree (B.A., B.S., B.Eng., etc.)  United States of America   \n",
       "12     Bachelor’s degree (B.A., B.S., B.Eng., etc.)  United States of America   \n",
       "14  Master’s degree (M.A., M.S., M.Eng., MBA, etc.)  United States of America   \n",
       "26     Bachelor’s degree (B.A., B.S., B.Eng., etc.)  United States of America   \n",
       "28  Master’s degree (M.A., M.S., M.Eng., MBA, etc.)  United States of America   \n",
       "\n",
       "    ConvertedCompYearly  YearsCode LearnCodeCoursesCert  \\\n",
       "11            194400.00      12.00                  NaN   \n",
       "12             65000.00      12.00                  NaN   \n",
       "14            110000.00      11.00                  NaN   \n",
       "26            106960.00      10.00                  NaN   \n",
       "28            130000.00      20.00                  NaN   \n",
       "\n",
       "                               LanguageHaveWorkedWith  \\\n",
       "11  C#;HTML/CSS;JavaScript;PowerShell;Python;Rust;SQL   \n",
       "12               C;HTML/CSS;Rust;SQL;Swift;TypeScript   \n",
       "14        HTML/CSS;JavaScript;PHP;Python;R;Ruby;Scala   \n",
       "26     Bash/Shell;Groovy;HTML/CSS;Java;JavaScript;SQL   \n",
       "28                                              C;C++   \n",
       "\n",
       "                               DatabaseHaveWorkedWith  \\\n",
       "11  Couchbase;CouchDB;Microsoft SQL Server;MongoDB...   \n",
       "12                                         PostgreSQL   \n",
       "14             Elasticsearch;MongoDB;Neo4j;PostgreSQL   \n",
       "26                                      MongoDB;MySQL   \n",
       "28                                                NaN   \n",
       "\n",
       "     PlatformHaveWorkedWith  ...  \\\n",
       "11      AWS;Microsoft Azure  ...   \n",
       "12                      AWS  ...   \n",
       "14  AWS;DigitalOcean;Heroku  ...   \n",
       "26                      AWS  ...   \n",
       "28                      NaN  ...   \n",
       "\n",
       "                                              DevType n_cert n_lang n_db  \\\n",
       "11                                Engineering manager    nan   7.00 7.00   \n",
       "12                              Developer, full-stack    nan   6.00 1.00   \n",
       "14  Developer, full-stack;Academic researcher;DevO...    nan   7.00 4.00   \n",
       "26          Developer, full-stack;Developer, back-end    nan   6.00 2.00   \n",
       "28  Developer, desktop or enterprise applications;...    nan   2.00  nan   \n",
       "\n",
       "   n_platform n_webframe n_msic n_vcs n_officestack n_devtitles  \n",
       "11       2.00       5.00   8.00  1.00          6.00        1.00  \n",
       "12       1.00       1.00   1.00  1.00          3.00        1.00  \n",
       "14       3.00       6.00   5.00  1.00          3.00        3.00  \n",
       "26       1.00       1.00    nan  1.00          3.00        2.00  \n",
       "28        nan        nan   1.00  1.00          1.00        3.00  \n",
       "\n",
       "[5 rows x 35 columns]"
      ]
     },
     "execution_count": 34,
     "metadata": {},
     "output_type": "execute_result"
    }
   ],
   "source": [
    "df_clean.head()"
   ]
  },
  {
   "cell_type": "code",
   "execution_count": 35,
   "metadata": {},
   "outputs": [
    {
     "data": {
      "image/png": "[encoded data removed]",
      "text/plain": [
       "<Figure size 1296x2160 with 28 Axes>"
      ]
     },
     "metadata": {
      "needs_background": "light"
     },
     "output_type": "display_data"
    }
   ],
   "source": [
    "columns = list(df_clean) \n",
    "df_clean[columns].hist(stacked=False, bins=30, figsize=(18, 30), layout=(14, 2));"
   ]
  },
  {
   "cell_type": "markdown",
   "metadata": {},
   "source": [
    "- ConvertedCompYearly right skewed. Need to explore a bit more"
   ]
  },
  {
   "cell_type": "code",
   "execution_count": 36,
   "metadata": {},
   "outputs": [
    {
     "data": {
      "text/plain": [
       "<matplotlib.axes._subplots.AxesSubplot at 0x1ee52fe77c0>"
      ]
     },
     "execution_count": 36,
     "metadata": {},
     "output_type": "execute_result"
    },
    {
     "data": {
      "image/png": "[encoded data removed]",
      "text/plain": [
       "<Figure size 432x288 with 1 Axes>"
      ]
     },
     "metadata": {
      "needs_background": "light"
     },
     "output_type": "display_data"
    }
   ],
   "source": [
    "sns.scatterplot(data=df_clean, x=\"WorkExp\", y=\"ConvertedCompYearly\")"
   ]
  },
  {
   "cell_type": "code",
   "execution_count": 37,
   "metadata": {},
   "outputs": [
    {
     "data": {
      "image/png": "[encoded data removed]",
      "text/plain": [
       "<Figure size 360x360 with 1 Axes>"
      ]
     },
     "metadata": {
      "needs_background": "light"
     },
     "output_type": "display_data"
    }
   ],
   "source": [
    "sns.lmplot(data=df_clean, x=\"WorkExp\", y=\"ConvertedCompYearly\");"
   ]
  },
  {
   "cell_type": "code",
   "execution_count": 38,
   "metadata": {},
   "outputs": [
    {
     "data": {
      "image/png": "[encoded data removed]",
      "text/plain": [
       "<Figure size 720x720 with 1 Axes>"
      ]
     },
     "metadata": {
      "needs_background": "light"
     },
     "output_type": "display_data"
    }
   ],
   "source": [
    "#ConvertedCompYearly very skewed so lets remove upper ends\n",
    "df_clean[df_clean['ConvertedCompYearly']<400000].hist(column='ConvertedCompYearly',stacked=False, bins=10, figsize=(10, 10));"
   ]
  },
  {
   "cell_type": "markdown",
   "metadata": {},
   "source": [
    "- vast majority of salaries are sub 250k"
   ]
  },
  {
   "cell_type": "code",
   "execution_count": 39,
   "metadata": {},
   "outputs": [
    {
     "data": {
      "text/plain": [
       "(49999.999, 105000.0]    1946\n",
       "(105000.0, 140000.0]     1916\n",
       "(180000.0, 400000.0]     1864\n",
       "(140000.0, 180000.0]     1798\n",
       "Name: ConvertedCompYearly, dtype: int64"
      ]
     },
     "execution_count": 39,
     "metadata": {},
     "output_type": "execute_result"
    }
   ],
   "source": [
    "#lets split into 3 even-ish groups\n",
    "pd.qcut(df_clean['ConvertedCompYearly'], 4).value_counts()"
   ]
  },
  {
   "cell_type": "code",
   "execution_count": 40,
   "metadata": {},
   "outputs": [],
   "source": [
    "def comp_four(row):\n",
    "    if row['ConvertedCompYearly'] <= 100000:\n",
    "        val = \"<=100k\"\n",
    "    elif row['ConvertedCompYearly'] <= 150000:\n",
    "        val = \"<=150k\"\n",
    "    elif row['ConvertedCompYearly'] <= 200000:\n",
    "        val = \"<=200k\"\n",
    "    else:\n",
    "        val = \">200k\"\n",
    "    return val"
   ]
  },
  {
   "cell_type": "code",
   "execution_count": 41,
   "metadata": {},
   "outputs": [],
   "source": [
    "df_clean['CompGroupFour'] = df_clean.apply(comp_four, axis=1)"
   ]
  },
  {
   "cell_type": "code",
   "execution_count": 42,
   "metadata": {},
   "outputs": [
    {
     "data": {
      "text/plain": [
       "<=150k    2719\n",
       "<=200k    1822\n",
       "<=100k    1736\n",
       ">200k     1247\n",
       "Name: CompGroupFour, dtype: int64"
      ]
     },
     "execution_count": 42,
     "metadata": {},
     "output_type": "execute_result"
    }
   ],
   "source": [
    "df_clean['CompGroupFour'].value_counts(dropna=False)"
   ]
  },
  {
   "cell_type": "code",
   "execution_count": 43,
   "metadata": {},
   "outputs": [
    {
     "data": {
      "image/png": "[encoded data removed]",
      "text/plain": [
       "<Figure size 720x720 with 1 Axes>"
      ]
     },
     "metadata": {
      "needs_background": "light"
     },
     "output_type": "display_data"
    }
   ],
   "source": [
    "df_clean['CompGroupFour'].value_counts().loc[[\"<=100k\",\"<=150k\",\"<=200k\",\">200k\"]].plot.bar(figsize=(10, 10));"
   ]
  },
  {
   "cell_type": "markdown",
   "metadata": {},
   "source": [
    "- Most devs make between 100 and 150k. \n",
    "- we'll break this down futher to see what tools used by each group"
   ]
  },
  {
   "cell_type": "code",
   "execution_count": 44,
   "metadata": {},
   "outputs": [
    {
     "data": {
      "text/plain": [
       "25-34 years old       3194\n",
       "35-44 years old       2207\n",
       "45-54 years old        923\n",
       "18-24 years old        656\n",
       "55-64 years old        426\n",
       "65 years or older       72\n",
       "Prefer not to say       20\n",
       "Under 18 years old       1\n",
       "Name: Age, dtype: int64"
      ]
     },
     "execution_count": 44,
     "metadata": {},
     "output_type": "execute_result"
    }
   ],
   "source": [
    "df_clean['Age'].value_counts()"
   ]
  },
  {
   "cell_type": "code",
   "execution_count": 45,
   "metadata": {},
   "outputs": [
    {
     "data": {
      "text/html": [
       "<div>\n",
       "<style scoped>\n",
       "    .dataframe tbody tr th:only-of-type {\n",
       "        vertical-align: middle;\n",
       "    }\n",
       "\n",
       "    .dataframe tbody tr th {\n",
       "        vertical-align: top;\n",
       "    }\n",
       "\n",
       "    .dataframe thead th {\n",
       "        text-align: right;\n",
       "    }\n",
       "</style>\n",
       "<table border=\"1\" class=\"dataframe\">\n",
       "  <thead>\n",
       "    <tr style=\"text-align: right;\">\n",
       "      <th></th>\n",
       "      <th>index</th>\n",
       "      <th>Age</th>\n",
       "    </tr>\n",
       "  </thead>\n",
       "  <tbody>\n",
       "    <tr>\n",
       "      <th>0</th>\n",
       "      <td>18-24 years old</td>\n",
       "      <td>656</td>\n",
       "    </tr>\n",
       "    <tr>\n",
       "      <th>1</th>\n",
       "      <td>25-34 years old</td>\n",
       "      <td>3194</td>\n",
       "    </tr>\n",
       "    <tr>\n",
       "      <th>2</th>\n",
       "      <td>35-44 years old</td>\n",
       "      <td>2207</td>\n",
       "    </tr>\n",
       "    <tr>\n",
       "      <th>3</th>\n",
       "      <td>45-54 years old</td>\n",
       "      <td>923</td>\n",
       "    </tr>\n",
       "    <tr>\n",
       "      <th>4</th>\n",
       "      <td>55-64 years old</td>\n",
       "      <td>426</td>\n",
       "    </tr>\n",
       "    <tr>\n",
       "      <th>5</th>\n",
       "      <td>65 years or older</td>\n",
       "      <td>72</td>\n",
       "    </tr>\n",
       "    <tr>\n",
       "      <th>6</th>\n",
       "      <td>Prefer not to say</td>\n",
       "      <td>20</td>\n",
       "    </tr>\n",
       "    <tr>\n",
       "      <th>7</th>\n",
       "      <td>Under 18 years old</td>\n",
       "      <td>1</td>\n",
       "    </tr>\n",
       "  </tbody>\n",
       "</table>\n",
       "</div>"
      ],
      "text/plain": [
       "                index   Age\n",
       "0     18-24 years old   656\n",
       "1     25-34 years old  3194\n",
       "2     35-44 years old  2207\n",
       "3     45-54 years old   923\n",
       "4     55-64 years old   426\n",
       "5   65 years or older    72\n",
       "6   Prefer not to say    20\n",
       "7  Under 18 years old     1"
      ]
     },
     "execution_count": 45,
     "metadata": {},
     "output_type": "execute_result"
    }
   ],
   "source": [
    "df_clean['Age'].value_counts()[[\"18-24 years old\",\"25-34 years old\",\"35-44 years old\",\"45-54 years old\"\n",
    "                                ,\"55-64 years old\",\"65 years or older\",\"Prefer not to say\",\"Under 18 years old\"]].reset_index()"
   ]
  },
  {
   "cell_type": "code",
   "execution_count": 46,
   "metadata": {},
   "outputs": [
    {
     "data": {
      "text/plain": [
       "25-34 years old      0.43\n",
       "35-44 years old      0.29\n",
       "45-54 years old      0.12\n",
       "18-24 years old      0.09\n",
       "55-64 years old      0.06\n",
       "65 years or older    0.01\n",
       "Prefer not to say    0.00\n",
       "Under 18 years old   0.00\n",
       "Name: Age, dtype: float64"
      ]
     },
     "execution_count": 46,
     "metadata": {},
     "output_type": "execute_result"
    }
   ],
   "source": [
    "df_clean['Age'].value_counts(normalize=True)"
   ]
  },
  {
   "cell_type": "markdown",
   "metadata": {},
   "source": [
    "- Most Devs in this data set are in the 25-34 range (43%)\n",
    "- Second is 25-44 (29%)\n",
    "- the rest of the values are not much"
   ]
  },
  {
   "cell_type": "code",
   "execution_count": 47,
   "metadata": {},
   "outputs": [
    {
     "data": {
      "text/plain": [
       "array([[<matplotlib.axes._subplots.AxesSubplot object at 0x000001EE538E35B0>]],\n",
       "      dtype=object)"
      ]
     },
     "execution_count": 47,
     "metadata": {},
     "output_type": "execute_result"
    },
    {
     "data": {
      "image/png": "[encoded data removed]",
      "text/plain": [
       "<Figure size 720x720 with 1 Axes>"
      ]
     },
     "metadata": {
      "needs_background": "light"
     },
     "output_type": "display_data"
    }
   ],
   "source": [
    "#ConvertedCompYearly very skewed so lets remove upper ends\n",
    "df_clean.hist(column='WorkExp',stacked=False, bins=10, figsize=(10, 10))"
   ]
  },
  {
   "cell_type": "code",
   "execution_count": 48,
   "metadata": {},
   "outputs": [
    {
     "data": {
      "text/plain": [
       "(-0.001, 3.0]    714\n",
       "(10.0, 14.0]     673\n",
       "(3.0, 5.0]       608\n",
       "(5.0, 7.0]       564\n",
       "(17.0, 22.0]     529\n",
       "(28.0, 50.0]     510\n",
       "(14.0, 17.0]     489\n",
       "(22.0, 28.0]     488\n",
       "(7.0, 9.0]       448\n",
       "(9.0, 10.0]      360\n",
       "Name: WorkExp, dtype: int64"
      ]
     },
     "execution_count": 48,
     "metadata": {},
     "output_type": "execute_result"
    }
   ],
   "source": [
    "pd.qcut(df_clean['WorkExp'], 10).value_counts()"
   ]
  },
  {
   "cell_type": "markdown",
   "metadata": {},
   "source": [
    "- for this project I'll use 4 groups\n",
    "- new: 0-2yrs\n",
    "- early career: 3-10\n",
    "- mid: 11-20\n",
    "- vet: 20+"
   ]
  },
  {
   "cell_type": "code",
   "execution_count": 49,
   "metadata": {},
   "outputs": [],
   "source": [
    "def work_four(row):\n",
    "    if row['WorkExp'] <= 2:\n",
    "        val = \"new\"\n",
    "    elif row['WorkExp'] <= 10:\n",
    "        val = \"early\"\n",
    "    elif row['WorkExp'] <= 20:\n",
    "        val = \"mid\"\n",
    "    else:\n",
    "        val = \"vet\"\n",
    "    return val"
   ]
  },
  {
   "cell_type": "code",
   "execution_count": 50,
   "metadata": {},
   "outputs": [],
   "source": [
    "df_clean['WorkExpFour'] = df_clean.apply(work_four, axis=1)"
   ]
  },
  {
   "cell_type": "code",
   "execution_count": 51,
   "metadata": {},
   "outputs": [
    {
     "data": {
      "text/plain": [
       "vet      3288\n",
       "early    2262\n",
       "mid      1542\n",
       "new       432\n",
       "Name: WorkExpFour, dtype: int64"
      ]
     },
     "execution_count": 51,
     "metadata": {},
     "output_type": "execute_result"
    }
   ],
   "source": [
    "df_clean['WorkExpFour'].value_counts()"
   ]
  },
  {
   "cell_type": "markdown",
   "metadata": {},
   "source": [
    "- new devs are not well represented\n",
    "- survey completed by mostly those well into their careers"
   ]
  },
  {
   "cell_type": "code",
   "execution_count": 52,
   "metadata": {},
   "outputs": [],
   "source": [
    "work_order = ['new','early','mid','vet']"
   ]
  },
  {
   "cell_type": "code",
   "execution_count": 53,
   "metadata": {},
   "outputs": [
    {
     "data": {
      "image/png": "[encoded data removed]",
      "text/plain": [
       "<Figure size 1080x576 with 1 Axes>"
      ]
     },
     "metadata": {
      "needs_background": "light"
     },
     "output_type": "display_data"
    }
   ],
   "source": [
    "plt.figure(figsize=(15,8))\n",
    "sns.countplot(x=df_clean[\"WorkExpFour\"],order=work_order);"
   ]
  },
  {
   "cell_type": "markdown",
   "metadata": {},
   "source": [
    "### Qustion 1: What is a typical US full time dev profile"
   ]
  },
  {
   "cell_type": "markdown",
   "metadata": {},
   "source": [
    "#### I created two functions for demographics and tools since I'll be reusing for futher questions"
   ]
  },
  {
   "cell_type": "code",
   "execution_count": 54,
   "metadata": {},
   "outputs": [],
   "source": [
    "def demographics(df):\n",
    "    demo_cols = [\"Age\",\"Gender\",\"Trans\",\"Sexuality\",\"Ethnicity\",\"Accessibility\",\"MentalHealth\"]\n",
    "    print('Demogrpahic info:')\n",
    "    for x in demo_cols:\n",
    "        print(\"{0}: \".format(x))\n",
    "        print(df_clean[x].value_counts(dropna=False,normalize=True))\n",
    "        print(\"-\" * 40)"
   ]
  },
  {
   "cell_type": "code",
   "execution_count": 55,
   "metadata": {},
   "outputs": [],
   "source": [
    "def tools(df):\n",
    "    tools_col = ['LearnCodeCoursesCert','LanguageHaveWorkedWith','DatabaseHaveWorkedWith','PlatformHaveWorkedWith',\n",
    "                'WebframeHaveWorkedWith','MiscTechHaveWorkedWith','VersionControlSystem','OfficeStackSyncHaveWorkedWith','DevType']\n",
    "    tools_counts = ['n_cert','n_lang','n_db','n_platform','n_webframe','n_msic','n_vcs','n_officestack','n_devtitles']\n",
    "    for x in range(9):\n",
    "        print(\"Average Number of {}: {},\".format(tools_col[x],round(df[tools_counts[x]].mean(),2)))\n",
    "        print(\"Median Number of {}: {},\".format(tools_col[x],round(df[tools_counts[x]].median(),2)))\n",
    "        print(\"Top 5 {}:\".format(tools_col[x]))\n",
    "        print(pd.Series([item for sublist in df[df[tools_col[x]].notnull()][tools_col[x]].str.split(pat=\";\") for item in sublist]).value_counts().head(5))\n",
    "        print(\"*\"*40)"
   ]
  },
  {
   "cell_type": "code",
   "execution_count": 56,
   "metadata": {
    "scrolled": false
   },
   "outputs": [
    {
     "name": "stdout",
     "output_type": "stream",
     "text": [
      "Demogrpahic info:\n",
      "Age: \n",
      "25-34 years old      0.42\n",
      "35-44 years old      0.29\n",
      "45-54 years old      0.12\n",
      "18-24 years old      0.09\n",
      "55-64 years old      0.06\n",
      "65 years or older    0.01\n",
      "NaN                  0.00\n",
      "Prefer not to say    0.00\n",
      "Under 18 years old   0.00\n",
      "Name: Age, dtype: float64\n",
      "----------------------------------------\n",
      "Gender: \n",
      "Man                                                                                  0.90\n",
      "Woman                                                                                0.06\n",
      "Non-binary, genderqueer, or gender non-conforming                                    0.01\n",
      "Prefer not to say                                                                    0.01\n",
      "Man;Non-binary, genderqueer, or gender non-conforming                                0.01\n",
      "NaN                                                                                  0.01\n",
      "Woman;Non-binary, genderqueer, or gender non-conforming                              0.00\n",
      "Or, in your own words:                                                               0.00\n",
      "Man;Or, in your own words:                                                           0.00\n",
      "Or, in your own words:;Non-binary, genderqueer, or gender non-conforming             0.00\n",
      "Or, in your own words:;Woman;Non-binary, genderqueer, or gender non-conforming       0.00\n",
      "Man;Or, in your own words:;Non-binary, genderqueer, or gender non-conforming         0.00\n",
      "Man;Woman;Non-binary, genderqueer, or gender non-conforming                          0.00\n",
      "Man;Or, in your own words:;Woman;Non-binary, genderqueer, or gender non-conforming   0.00\n",
      "Name: Gender, dtype: float64\n",
      "----------------------------------------\n",
      "Trans: \n",
      "No                       0.96\n",
      "Yes                      0.02\n",
      "Prefer not to say        0.01\n",
      "NaN                      0.01\n",
      "Or, in your own words:   0.01\n",
      "Name: Trans, dtype: float64\n",
      "----------------------------------------\n",
      "Sexuality: \n",
      "Straight / Heterosexual                                                          0.82\n",
      "Bisexual                                                                         0.04\n",
      "Prefer not to say                                                                0.04\n",
      "NaN                                                                              0.03\n",
      "Gay or Lesbian                                                                   0.03\n",
      "Queer                                                                            0.01\n",
      "Prefer to self-describe:                                                         0.01\n",
      "Bisexual;Queer                                                                   0.01\n",
      "Bisexual;Straight / Heterosexual                                                 0.01\n",
      "Gay or Lesbian;Queer                                                             0.01\n",
      "Straight / Heterosexual;Queer                                                    0.00\n",
      "Straight / Heterosexual;Prefer to self-describe:                                 0.00\n",
      "Bisexual;Gay or Lesbian;Queer                                                    0.00\n",
      "Prefer to self-describe:;Queer                                                   0.00\n",
      "Bisexual;Gay or Lesbian                                                          0.00\n",
      "Bisexual;Prefer to self-describe:;Queer                                          0.00\n",
      "Bisexual;Straight / Heterosexual;Gay or Lesbian;Queer                            0.00\n",
      "Straight / Heterosexual;Prefer to self-describe:;Queer                           0.00\n",
      "Bisexual;Straight / Heterosexual;Queer                                           0.00\n",
      "Bisexual;Straight / Heterosexual;Prefer to self-describe:;Gay or Lesbian;Queer   0.00\n",
      "Bisexual;Prefer to self-describe:                                                0.00\n",
      "Prefer to self-describe:;Gay or Lesbian;Queer                                    0.00\n",
      "Bisexual;Straight / Heterosexual;Prefer to self-describe:                        0.00\n",
      "Straight / Heterosexual;Gay or Lesbian                                           0.00\n",
      "Name: Sexuality, dtype: float64\n",
      "----------------------------------------\n",
      "Ethnicity: \n",
      "White                                                                  0.62\n",
      "White;North American                                                   0.06\n",
      "White;European                                                         0.03\n",
      "Prefer not to say                                                      0.02\n",
      "Asian                                                                  0.02\n",
      "                                                                       ... \n",
      "White;European;Asian;East Asian;Southeast Asian;Hispanic or Latino/a   0.00\n",
      "White;North American;Hispanic or Latino/a;Multiracial                  0.00\n",
      "White;European;Asian;East Asian;Multiracial;Biracial                   0.00\n",
      "White;North American;Southeast Asian;Biracial                          0.00\n",
      "Or, in your own words:;Asian                                           0.00\n",
      "Name: Ethnicity, Length: 305, dtype: float64\n",
      "----------------------------------------\n",
      "Accessibility: \n",
      "None of the above                                                                                                                        0.93\n",
      "NaN                                                                                                                                      0.03\n",
      "Prefer not to say                                                                                                                        0.01\n",
      "I am deaf / hard of hearing                                                                                                              0.01\n",
      "Or, in your own words:                                                                                                                   0.01\n",
      "I am blind / have difficulty seeing                                                                                                      0.01\n",
      "I am unable to / find it difficult to walk or stand without assistance                                                                   0.00\n",
      "I am unable to / find it difficult to type                                                                                               0.00\n",
      "Or, in your own words:;I am blind / have difficulty seeing                                                                               0.00\n",
      "I am deaf / hard of hearing;I am blind / have difficulty seeing                                                                          0.00\n",
      "I am unable to / find it difficult to type;I am unable to / find it difficult to walk or stand without assistance                        0.00\n",
      "I am deaf / hard of hearing;I am unable to / find it difficult to type                                                                   0.00\n",
      "I am deaf / hard of hearing;I am blind / have difficulty seeing;I am unable to / find it difficult to walk or stand without assistance   0.00\n",
      "I am blind / have difficulty seeing;I am unable to / find it difficult to type                                                           0.00\n",
      "Or, in your own words:;I am blind / have difficulty seeing;I am unable to / find it difficult to type                                    0.00\n",
      "I am deaf / hard of hearing;I am blind / have difficulty seeing;I am unable to / find it difficult to type                               0.00\n",
      "Or, in your own words:;I am unable to / find it difficult to type                                                                        0.00\n",
      "I am deaf / hard of hearing;I am unable to / find it difficult to walk or stand without assistance                                       0.00\n",
      "Or, in your own words:;I am deaf / hard of hearing                                                                                       0.00\n",
      "I am blind / have difficulty seeing;I am unable to / find it difficult to walk or stand without assistance                               0.00\n",
      "Name: Accessibility, dtype: float64\n",
      "----------------------------------------\n",
      "MentalHealth: \n",
      "None of the above                                                                                                                                                                                                                                                                                             0.57\n",
      "I have a concentration and/or memory disorder (e.g., ADHD, etc.)                                                                                                                                                                                                                                              0.08\n",
      "I have an anxiety disorder                                                                                                                                                                                                                                                                                    0.05\n",
      "I have a mood or emotional disorder (e.g., depression, bipolar disorder, etc.)                                                                                                                                                                                                                                0.04\n",
      "Prefer not to say                                                                                                                                                                                                                                                                                             0.04\n",
      "I have a mood or emotional disorder (e.g., depression, bipolar disorder, etc.);I have an anxiety disorder                                                                                                                                                                                                     0.04\n",
      "I have a mood or emotional disorder (e.g., depression, bipolar disorder, etc.);I have an anxiety disorder;I have a concentration and/or memory disorder (e.g., ADHD, etc.)                                                                                                                                    0.03\n",
      "NaN                                                                                                                                                                                                                                                                                                           0.03\n",
      "I have a mood or emotional disorder (e.g., depression, bipolar disorder, etc.);I have a concentration and/or memory disorder (e.g., ADHD, etc.)                                                                                                                                                               0.02\n",
      "I have an anxiety disorder;I have a concentration and/or memory disorder (e.g., ADHD, etc.)                                                                                                                                                                                                                   0.02\n",
      "I have autism / an autism spectrum disorder (e.g. Asperger's, etc.)                                                                                                                                                                                                                                           0.01\n",
      "I have learning differences (e.g., Dyslexic, Dyslexia, etc.)                                                                                                                                                                                                                                                  0.01\n",
      "I have a concentration and/or memory disorder (e.g., ADHD, etc.);I have autism / an autism spectrum disorder (e.g. Asperger's, etc.)                                                                                                                                                                          0.01\n",
      "I have a mood or emotional disorder (e.g., depression, bipolar disorder, etc.);I have an anxiety disorder;I have a concentration and/or memory disorder (e.g., ADHD, etc.);I have autism / an autism spectrum disorder (e.g. Asperger's, etc.)                                                                0.01\n",
      "Or, in your own words:                                                                                                                                                                                                                                                                                        0.01\n",
      "I have a mood or emotional disorder (e.g., depression, bipolar disorder, etc.);I have an anxiety disorder;I have a concentration and/or memory disorder (e.g., ADHD, etc.);I have learning differences (e.g., Dyslexic, Dyslexia, etc.)                                                                       0.00\n",
      "I have a mood or emotional disorder (e.g., depression, bipolar disorder, etc.);I have an anxiety disorder;I have autism / an autism spectrum disorder (e.g. Asperger's, etc.)                                                                                                                                 0.00\n",
      "I have a concentration and/or memory disorder (e.g., ADHD, etc.);I have learning differences (e.g., Dyslexic, Dyslexia, etc.)                                                                                                                                                                                 0.00\n",
      "I have an anxiety disorder;I have autism / an autism spectrum disorder (e.g. Asperger's, etc.)                                                                                                                                                                                                                0.00\n",
      "I have a mood or emotional disorder (e.g., depression, bipolar disorder, etc.);I have autism / an autism spectrum disorder (e.g. Asperger's, etc.)                                                                                                                                                            0.00\n",
      "I have a mood or emotional disorder (e.g., depression, bipolar disorder, etc.);I have a concentration and/or memory disorder (e.g., ADHD, etc.);I have autism / an autism spectrum disorder (e.g. Asperger's, etc.)                                                                                           0.00\n",
      "I have an anxiety disorder;I have a concentration and/or memory disorder (e.g., ADHD, etc.);I have autism / an autism spectrum disorder (e.g. Asperger's, etc.)                                                                                                                                               0.00\n",
      "I have an anxiety disorder;I have learning differences (e.g., Dyslexic, Dyslexia, etc.)                                                                                                                                                                                                                       0.00\n",
      "I have a mood or emotional disorder (e.g., depression, bipolar disorder, etc.);I have an anxiety disorder;I have a concentration and/or memory disorder (e.g., ADHD, etc.);I have learning differences (e.g., Dyslexic, Dyslexia, etc.);I have autism / an autism spectrum disorder (e.g. Asperger's, etc.)   0.00\n",
      "I have a mood or emotional disorder (e.g., depression, bipolar disorder, etc.);I have an anxiety disorder;I have learning differences (e.g., Dyslexic, Dyslexia, etc.)                                                                                                                                        0.00\n",
      "Or, in your own words:;I have a concentration and/or memory disorder (e.g., ADHD, etc.)                                                                                                                                                                                                                       0.00\n",
      "I have a mood or emotional disorder (e.g., depression, bipolar disorder, etc.);I have a concentration and/or memory disorder (e.g., ADHD, etc.);I have learning differences (e.g., Dyslexic, Dyslexia, etc.)                                                                                                  0.00\n",
      "I have an anxiety disorder;I have a concentration and/or memory disorder (e.g., ADHD, etc.);I have learning differences (e.g., Dyslexic, Dyslexia, etc.)                                                                                                                                                      0.00\n",
      "I have an anxiety disorder;Or, in your own words:                                                                                                                                                                                                                                                             0.00\n",
      "I have a mood or emotional disorder (e.g., depression, bipolar disorder, etc.);I have learning differences (e.g., Dyslexic, Dyslexia, etc.)                                                                                                                                                                   0.00\n",
      "I have an anxiety disorder;I have a concentration and/or memory disorder (e.g., ADHD, etc.);I have learning differences (e.g., Dyslexic, Dyslexia, etc.);I have autism / an autism spectrum disorder (e.g. Asperger's, etc.)                                                                                  0.00\n",
      "I have a mood or emotional disorder (e.g., depression, bipolar disorder, etc.);Or, in your own words:                                                                                                                                                                                                         0.00\n",
      "I have a mood or emotional disorder (e.g., depression, bipolar disorder, etc.);I have a concentration and/or memory disorder (e.g., ADHD, etc.);I have learning differences (e.g., Dyslexic, Dyslexia, etc.);I have autism / an autism spectrum disorder (e.g. Asperger's, etc.)                              0.00\n",
      "I have a mood or emotional disorder (e.g., depression, bipolar disorder, etc.);Or, in your own words:;I have a concentration and/or memory disorder (e.g., ADHD, etc.)                                                                                                                                        0.00\n",
      "I have a mood or emotional disorder (e.g., depression, bipolar disorder, etc.);Or, in your own words:;I have autism / an autism spectrum disorder (e.g. Asperger's, etc.)                                                                                                                                     0.00\n",
      "Or, in your own words:;I have a concentration and/or memory disorder (e.g., ADHD, etc.);I have autism / an autism spectrum disorder (e.g. Asperger's, etc.)                                                                                                                                                   0.00\n",
      "I have a mood or emotional disorder (e.g., depression, bipolar disorder, etc.);I have an anxiety disorder;I have learning differences (e.g., Dyslexic, Dyslexia, etc.);I have autism / an autism spectrum disorder (e.g. Asperger's, etc.)                                                                    0.00\n",
      "I have an anxiety disorder;I have learning differences (e.g., Dyslexic, Dyslexia, etc.);I have autism / an autism spectrum disorder (e.g. Asperger's, etc.)                                                                                                                                                   0.00\n",
      "I have a concentration and/or memory disorder (e.g., ADHD, etc.);I have learning differences (e.g., Dyslexic, Dyslexia, etc.);I have autism / an autism spectrum disorder (e.g. Asperger's, etc.)                                                                                                             0.00\n",
      "I have a mood or emotional disorder (e.g., depression, bipolar disorder, etc.);I have an anxiety disorder;Or, in your own words:                                                                                                                                                                              0.00\n",
      "I have a mood or emotional disorder (e.g., depression, bipolar disorder, etc.);I have an anxiety disorder;Or, in your own words:;I have a concentration and/or memory disorder (e.g., ADHD, etc.)                                                                                                             0.00\n",
      "I have an anxiety disorder;Or, in your own words:;I have a concentration and/or memory disorder (e.g., ADHD, etc.)                                                                                                                                                                                            0.00\n",
      "I have a mood or emotional disorder (e.g., depression, bipolar disorder, etc.);I have an anxiety disorder;Or, in your own words:;I have autism / an autism spectrum disorder (e.g. Asperger's, etc.)                                                                                                          0.00\n",
      "Or, in your own words:;I have autism / an autism spectrum disorder (e.g. Asperger's, etc.)                                                                                                                                                                                                                    0.00\n",
      "Or, in your own words:;I have learning differences (e.g., Dyslexic, Dyslexia, etc.)                                                                                                                                                                                                                           0.00\n",
      "I have a mood or emotional disorder (e.g., depression, bipolar disorder, etc.);Or, in your own words:;I have a concentration and/or memory disorder (e.g., ADHD, etc.);I have autism / an autism spectrum disorder (e.g. Asperger's, etc.)                                                                    0.00\n",
      "I have a mood or emotional disorder (e.g., depression, bipolar disorder, etc.);I have learning differences (e.g., Dyslexic, Dyslexia, etc.);I have autism / an autism spectrum disorder (e.g. Asperger's, etc.)                                                                                               0.00\n",
      "Name: MentalHealth, dtype: float64\n",
      "----------------------------------------\n"
     ]
    }
   ],
   "source": [
    "demographics(df_clean)"
   ]
  },
  {
   "cell_type": "code",
   "execution_count": 57,
   "metadata": {},
   "outputs": [
    {
     "name": "stdout",
     "output_type": "stream",
     "text": [
      "Average Number of LearnCodeCoursesCert: 2.11,\n",
      "Median Number of LearnCodeCoursesCert: 2.0,\n",
      "Top 5 LearnCodeCoursesCert:\n",
      "Udemy          1405\n",
      "Pluralsight     954\n",
      "Codecademy      821\n",
      "Coursera        729\n",
      "Other           508\n",
      "dtype: int64\n",
      "****************************************\n",
      "Average Number of LanguageHaveWorkedWith: 5.3,\n",
      "Median Number of LanguageHaveWorkedWith: 5.0,\n",
      "Top 5 LanguageHaveWorkedWith:\n",
      "JavaScript    5135\n",
      "SQL           4316\n",
      "HTML/CSS      4061\n",
      "Python        3594\n",
      "Bash/Shell    3038\n",
      "dtype: int64\n",
      "****************************************\n",
      "Average Number of DatabaseHaveWorkedWith: 2.6,\n",
      "Median Number of DatabaseHaveWorkedWith: 2.0,\n",
      "Top 5 DatabaseHaveWorkedWith:\n",
      "PostgreSQL              3094\n",
      "MySQL                   2348\n",
      "Microsoft SQL Server    2229\n",
      "Redis                   1762\n",
      "SQLite                  1665\n",
      "dtype: int64\n",
      "****************************************\n",
      "Average Number of PlatformHaveWorkedWith: 1.86,\n",
      "Median Number of PlatformHaveWorkedWith: 2.0,\n",
      "Top 5 PlatformHaveWorkedWith:\n",
      "AWS                4055\n",
      "Microsoft Azure    1965\n",
      "Google Cloud       1407\n",
      "DigitalOcean        911\n",
      "Heroku              767\n",
      "dtype: int64\n",
      "****************************************\n",
      "Average Number of WebframeHaveWorkedWith: 3.13,\n",
      "Median Number of WebframeHaveWorkedWith: 3.0,\n",
      "Top 5 WebframeHaveWorkedWith:\n",
      "React.js         2740\n",
      "Node.js          2719\n",
      "jQuery           1554\n",
      "ASP.NET Core     1410\n",
      "Express          1142\n",
      "dtype: int64\n",
      "****************************************\n",
      "Average Number of MiscTechHaveWorkedWith: 2.05,\n",
      "Median Number of MiscTechHaveWorkedWith: 1.0,\n",
      "Top 5 MiscTechHaveWorkedWith:\n",
      ".NET            2070\n",
      "NumPy           1162\n",
      "Pandas          1114\n",
      "Spring           734\n",
      "Apache Kafka     632\n",
      "dtype: int64\n",
      "****************************************\n",
      "Average Number of VersionControlSystem: 1.09,\n",
      "Median Number of VersionControlSystem: 1.0,\n",
      "Top 5 VersionControlSystem:\n",
      "Git                        7296\n",
      "Other (please specify):     350\n",
      "SVN                         337\n",
      "Mercurial                   111\n",
      "I don't use one              70\n",
      "dtype: int64\n",
      "****************************************\n",
      "Average Number of OfficeStackSyncHaveWorkedWith: 2.32,\n",
      "Median Number of OfficeStackSyncHaveWorkedWith: 2.0,\n",
      "Top 5 OfficeStackSyncHaveWorkedWith:\n",
      "Slack                5037\n",
      "Zoom                 4963\n",
      "Microsoft Teams      4139\n",
      "Google Chat          1469\n",
      "Cisco Webex Teams     871\n",
      "dtype: int64\n",
      "****************************************\n",
      "Average Number of DevType: 2.59,\n",
      "Median Number of DevType: 2.0,\n",
      "Top 5 DevType:\n",
      "Developer, full-stack                            3826\n",
      "Developer, back-end                              3189\n",
      "Developer, front-end                             1715\n",
      "Developer, desktop or enterprise applications    1148\n",
      "DevOps specialist                                 896\n",
      "dtype: int64\n",
      "****************************************\n"
     ]
    }
   ],
   "source": [
    "tools(df_clean)"
   ]
  },
  {
   "cell_type": "code",
   "execution_count": 58,
   "metadata": {},
   "outputs": [],
   "source": [
    "typical_us_dev_demo = \"The typical FTE US DEV is: a 25-34 years old man, non trans, White, Straight / Heterosexual. \\nNo accessibility or mental heath needs reported.\"\n",
    "typical_us_dev_tools = \"Popular tools and tech used by FTE US devs: JS, SQL, HTML/CSS, Python, Bash/Shell, PostgresSQL, MySQL, MSSQL, \\nAWS, Azure, Google Cloud, React.js,Node.js, JQuery, .NET, numpy, Pandas, Git, Slack, Zoom, Teams\""
   ]
  },
  {
   "cell_type": "code",
   "execution_count": 59,
   "metadata": {},
   "outputs": [
    {
     "name": "stdout",
     "output_type": "stream",
     "text": [
      "The typical FTE US DEV is: a 25-34 years old man, non trans, White, Straight / Heterosexual. \n",
      "No accessibility or mental heath needs reported.\n"
     ]
    }
   ],
   "source": [
    "print(typical_us_dev_demo)"
   ]
  },
  {
   "cell_type": "code",
   "execution_count": 60,
   "metadata": {},
   "outputs": [
    {
     "name": "stdout",
     "output_type": "stream",
     "text": [
      "Popular tools and tech used by FTE US devs: JS, SQL, HTML/CSS, Python, Bash/Shell, PostgresSQL, MySQL, MSSQL, \n",
      "AWS, Azure, Google Cloud, React.js,Node.js, JQuery, .NET, numpy, Pandas, Git, Slack, Zoom, Teams\n"
     ]
    }
   ],
   "source": [
    "print(typical_us_dev_tools)"
   ]
  },
  {
   "cell_type": "markdown",
   "metadata": {},
   "source": [
    "### Part 2 - Segement groups by experience"
   ]
  },
  {
   "cell_type": "code",
   "execution_count": 61,
   "metadata": {},
   "outputs": [
    {
     "data": {
      "text/plain": [
       "vet      3288\n",
       "early    2262\n",
       "mid      1542\n",
       "new       432\n",
       "Name: WorkExpFour, dtype: int64"
      ]
     },
     "execution_count": 61,
     "metadata": {},
     "output_type": "execute_result"
    }
   ],
   "source": [
    "df_clean['WorkExpFour'].value_counts()"
   ]
  },
  {
   "cell_type": "code",
   "execution_count": 62,
   "metadata": {},
   "outputs": [],
   "source": [
    "grp_new = df_clean[df_clean[\"WorkExpFour\"]== 'new']\n",
    "grp_early = df_clean[df_clean[\"WorkExpFour\"]== 'early']\n",
    "grp_mid = df_clean[df_clean[\"WorkExpFour\"]== 'mid']\n",
    "grp_vet= df_clean[df_clean[\"WorkExpFour\"]== 'vet']"
   ]
  },
  {
   "cell_type": "code",
   "execution_count": 63,
   "metadata": {},
   "outputs": [
    {
     "name": "stdout",
     "output_type": "stream",
     "text": [
      "(432, 37)\n",
      "(2262, 37)\n",
      "(1542, 37)\n",
      "(3288, 37)\n"
     ]
    }
   ],
   "source": [
    "print(grp_new.shape)\n",
    "print(grp_early.shape)\n",
    "print(grp_mid.shape)\n",
    "print(grp_vet.shape)"
   ]
  },
  {
   "cell_type": "code",
   "execution_count": 64,
   "metadata": {},
   "outputs": [
    {
     "data": {
      "text/html": [
       "<div>\n",
       "<style scoped>\n",
       "    .dataframe tbody tr th:only-of-type {\n",
       "        vertical-align: middle;\n",
       "    }\n",
       "\n",
       "    .dataframe tbody tr th {\n",
       "        vertical-align: top;\n",
       "    }\n",
       "\n",
       "    .dataframe thead th {\n",
       "        text-align: right;\n",
       "    }\n",
       "</style>\n",
       "<table border=\"1\" class=\"dataframe\">\n",
       "  <thead>\n",
       "    <tr style=\"text-align: right;\">\n",
       "      <th></th>\n",
       "      <th>count</th>\n",
       "      <th>mean</th>\n",
       "      <th>std</th>\n",
       "      <th>min</th>\n",
       "      <th>25%</th>\n",
       "      <th>50%</th>\n",
       "      <th>75%</th>\n",
       "      <th>max</th>\n",
       "    </tr>\n",
       "  </thead>\n",
       "  <tbody>\n",
       "    <tr>\n",
       "      <th>ConvertedCompYearly</th>\n",
       "      <td>432.00</td>\n",
       "      <td>106699.61</td>\n",
       "      <td>50830.41</td>\n",
       "      <td>50000.00</td>\n",
       "      <td>75000.00</td>\n",
       "      <td>90000.00</td>\n",
       "      <td>125000.00</td>\n",
       "      <td>400000.00</td>\n",
       "    </tr>\n",
       "    <tr>\n",
       "      <th>YearsCode</th>\n",
       "      <td>431.00</td>\n",
       "      <td>6.48</td>\n",
       "      <td>3.72</td>\n",
       "      <td>1.00</td>\n",
       "      <td>4.00</td>\n",
       "      <td>6.00</td>\n",
       "      <td>8.00</td>\n",
       "      <td>30.00</td>\n",
       "    </tr>\n",
       "    <tr>\n",
       "      <th>WorkExp</th>\n",
       "      <td>432.00</td>\n",
       "      <td>1.47</td>\n",
       "      <td>0.58</td>\n",
       "      <td>0.00</td>\n",
       "      <td>1.00</td>\n",
       "      <td>2.00</td>\n",
       "      <td>2.00</td>\n",
       "      <td>2.00</td>\n",
       "    </tr>\n",
       "    <tr>\n",
       "      <th>n_cert</th>\n",
       "      <td>174.00</td>\n",
       "      <td>2.06</td>\n",
       "      <td>1.06</td>\n",
       "      <td>1.00</td>\n",
       "      <td>1.00</td>\n",
       "      <td>2.00</td>\n",
       "      <td>3.00</td>\n",
       "      <td>5.00</td>\n",
       "    </tr>\n",
       "    <tr>\n",
       "      <th>n_lang</th>\n",
       "      <td>432.00</td>\n",
       "      <td>5.30</td>\n",
       "      <td>2.78</td>\n",
       "      <td>1.00</td>\n",
       "      <td>3.00</td>\n",
       "      <td>5.00</td>\n",
       "      <td>7.00</td>\n",
       "      <td>19.00</td>\n",
       "    </tr>\n",
       "    <tr>\n",
       "      <th>n_db</th>\n",
       "      <td>366.00</td>\n",
       "      <td>2.39</td>\n",
       "      <td>1.55</td>\n",
       "      <td>1.00</td>\n",
       "      <td>1.00</td>\n",
       "      <td>2.00</td>\n",
       "      <td>3.00</td>\n",
       "      <td>9.00</td>\n",
       "    </tr>\n",
       "    <tr>\n",
       "      <th>n_platform</th>\n",
       "      <td>317.00</td>\n",
       "      <td>1.89</td>\n",
       "      <td>1.03</td>\n",
       "      <td>1.00</td>\n",
       "      <td>1.00</td>\n",
       "      <td>2.00</td>\n",
       "      <td>2.00</td>\n",
       "      <td>6.00</td>\n",
       "    </tr>\n",
       "    <tr>\n",
       "      <th>n_webframe</th>\n",
       "      <td>336.00</td>\n",
       "      <td>3.18</td>\n",
       "      <td>1.88</td>\n",
       "      <td>1.00</td>\n",
       "      <td>2.00</td>\n",
       "      <td>3.00</td>\n",
       "      <td>4.00</td>\n",
       "      <td>12.00</td>\n",
       "    </tr>\n",
       "    <tr>\n",
       "      <th>n_msic</th>\n",
       "      <td>270.00</td>\n",
       "      <td>2.42</td>\n",
       "      <td>1.90</td>\n",
       "      <td>1.00</td>\n",
       "      <td>1.00</td>\n",
       "      <td>2.00</td>\n",
       "      <td>3.00</td>\n",
       "      <td>13.00</td>\n",
       "    </tr>\n",
       "    <tr>\n",
       "      <th>n_vcs</th>\n",
       "      <td>432.00</td>\n",
       "      <td>1.07</td>\n",
       "      <td>0.27</td>\n",
       "      <td>1.00</td>\n",
       "      <td>1.00</td>\n",
       "      <td>1.00</td>\n",
       "      <td>1.00</td>\n",
       "      <td>3.00</td>\n",
       "    </tr>\n",
       "    <tr>\n",
       "      <th>n_officestack</th>\n",
       "      <td>425.00</td>\n",
       "      <td>2.16</td>\n",
       "      <td>1.00</td>\n",
       "      <td>1.00</td>\n",
       "      <td>1.00</td>\n",
       "      <td>2.00</td>\n",
       "      <td>3.00</td>\n",
       "      <td>6.00</td>\n",
       "    </tr>\n",
       "    <tr>\n",
       "      <th>n_devtitles</th>\n",
       "      <td>432.00</td>\n",
       "      <td>1.87</td>\n",
       "      <td>1.33</td>\n",
       "      <td>1.00</td>\n",
       "      <td>1.00</td>\n",
       "      <td>1.00</td>\n",
       "      <td>2.00</td>\n",
       "      <td>10.00</td>\n",
       "    </tr>\n",
       "  </tbody>\n",
       "</table>\n",
       "</div>"
      ],
      "text/plain": [
       "                     count      mean      std      min      25%      50%  \\\n",
       "ConvertedCompYearly 432.00 106699.61 50830.41 50000.00 75000.00 90000.00   \n",
       "YearsCode           431.00      6.48     3.72     1.00     4.00     6.00   \n",
       "WorkExp             432.00      1.47     0.58     0.00     1.00     2.00   \n",
       "n_cert              174.00      2.06     1.06     1.00     1.00     2.00   \n",
       "n_lang              432.00      5.30     2.78     1.00     3.00     5.00   \n",
       "n_db                366.00      2.39     1.55     1.00     1.00     2.00   \n",
       "n_platform          317.00      1.89     1.03     1.00     1.00     2.00   \n",
       "n_webframe          336.00      3.18     1.88     1.00     2.00     3.00   \n",
       "n_msic              270.00      2.42     1.90     1.00     1.00     2.00   \n",
       "n_vcs               432.00      1.07     0.27     1.00     1.00     1.00   \n",
       "n_officestack       425.00      2.16     1.00     1.00     1.00     2.00   \n",
       "n_devtitles         432.00      1.87     1.33     1.00     1.00     1.00   \n",
       "\n",
       "                          75%       max  \n",
       "ConvertedCompYearly 125000.00 400000.00  \n",
       "YearsCode                8.00     30.00  \n",
       "WorkExp                  2.00      2.00  \n",
       "n_cert                   3.00      5.00  \n",
       "n_lang                   7.00     19.00  \n",
       "n_db                     3.00      9.00  \n",
       "n_platform               2.00      6.00  \n",
       "n_webframe               4.00     12.00  \n",
       "n_msic                   3.00     13.00  \n",
       "n_vcs                    1.00      3.00  \n",
       "n_officestack            3.00      6.00  \n",
       "n_devtitles              2.00     10.00  "
      ]
     },
     "execution_count": 64,
     "metadata": {},
     "output_type": "execute_result"
    }
   ],
   "source": [
    "grp_new.describe().T"
   ]
  },
  {
   "cell_type": "code",
   "execution_count": 65,
   "metadata": {},
   "outputs": [
    {
     "data": {
      "text/plain": [
       "array([[<matplotlib.axes._subplots.AxesSubplot object at 0x000001EE5314B400>]],\n",
       "      dtype=object)"
      ]
     },
     "execution_count": 65,
     "metadata": {},
     "output_type": "execute_result"
    },
    {
     "data": {
      "image/png": "[encoded data removed]",
      "text/plain": [
       "<Figure size 720x720 with 1 Axes>"
      ]
     },
     "metadata": {
      "needs_background": "light"
     },
     "output_type": "display_data"
    }
   ],
   "source": [
    "grp_new.hist(column='ConvertedCompYearly',stacked=False, bins=15, figsize=(10, 10))"
   ]
  },
  {
   "cell_type": "code",
   "execution_count": 66,
   "metadata": {},
   "outputs": [
    {
     "data": {
      "text/html": [
       "<div>\n",
       "<style scoped>\n",
       "    .dataframe tbody tr th:only-of-type {\n",
       "        vertical-align: middle;\n",
       "    }\n",
       "\n",
       "    .dataframe tbody tr th {\n",
       "        vertical-align: top;\n",
       "    }\n",
       "\n",
       "    .dataframe thead th {\n",
       "        text-align: right;\n",
       "    }\n",
       "</style>\n",
       "<table border=\"1\" class=\"dataframe\">\n",
       "  <thead>\n",
       "    <tr style=\"text-align: right;\">\n",
       "      <th></th>\n",
       "      <th>count</th>\n",
       "      <th>mean</th>\n",
       "      <th>std</th>\n",
       "      <th>min</th>\n",
       "      <th>25%</th>\n",
       "      <th>50%</th>\n",
       "      <th>75%</th>\n",
       "      <th>max</th>\n",
       "    </tr>\n",
       "  </thead>\n",
       "  <tbody>\n",
       "    <tr>\n",
       "      <th>ConvertedCompYearly</th>\n",
       "      <td>2262.00</td>\n",
       "      <td>144347.08</td>\n",
       "      <td>62320.58</td>\n",
       "      <td>50000.00</td>\n",
       "      <td>100000.00</td>\n",
       "      <td>130000.00</td>\n",
       "      <td>171000.00</td>\n",
       "      <td>400000.00</td>\n",
       "    </tr>\n",
       "    <tr>\n",
       "      <th>YearsCode</th>\n",
       "      <td>2261.00</td>\n",
       "      <td>10.53</td>\n",
       "      <td>4.62</td>\n",
       "      <td>1.00</td>\n",
       "      <td>7.00</td>\n",
       "      <td>10.00</td>\n",
       "      <td>13.00</td>\n",
       "      <td>43.00</td>\n",
       "    </tr>\n",
       "    <tr>\n",
       "      <th>WorkExp</th>\n",
       "      <td>2262.00</td>\n",
       "      <td>6.47</td>\n",
       "      <td>2.33</td>\n",
       "      <td>3.00</td>\n",
       "      <td>4.00</td>\n",
       "      <td>6.00</td>\n",
       "      <td>8.00</td>\n",
       "      <td>10.00</td>\n",
       "    </tr>\n",
       "    <tr>\n",
       "      <th>n_cert</th>\n",
       "      <td>798.00</td>\n",
       "      <td>2.18</td>\n",
       "      <td>1.23</td>\n",
       "      <td>1.00</td>\n",
       "      <td>1.00</td>\n",
       "      <td>2.00</td>\n",
       "      <td>3.00</td>\n",
       "      <td>7.00</td>\n",
       "    </tr>\n",
       "    <tr>\n",
       "      <th>n_lang</th>\n",
       "      <td>2258.00</td>\n",
       "      <td>5.32</td>\n",
       "      <td>2.52</td>\n",
       "      <td>1.00</td>\n",
       "      <td>4.00</td>\n",
       "      <td>5.00</td>\n",
       "      <td>7.00</td>\n",
       "      <td>22.00</td>\n",
       "    </tr>\n",
       "    <tr>\n",
       "      <th>n_db</th>\n",
       "      <td>1956.00</td>\n",
       "      <td>2.58</td>\n",
       "      <td>1.55</td>\n",
       "      <td>1.00</td>\n",
       "      <td>1.00</td>\n",
       "      <td>2.00</td>\n",
       "      <td>3.00</td>\n",
       "      <td>11.00</td>\n",
       "    </tr>\n",
       "    <tr>\n",
       "      <th>n_platform</th>\n",
       "      <td>1817.00</td>\n",
       "      <td>1.85</td>\n",
       "      <td>1.08</td>\n",
       "      <td>1.00</td>\n",
       "      <td>1.00</td>\n",
       "      <td>2.00</td>\n",
       "      <td>2.00</td>\n",
       "      <td>13.00</td>\n",
       "    </tr>\n",
       "    <tr>\n",
       "      <th>n_webframe</th>\n",
       "      <td>1794.00</td>\n",
       "      <td>3.23</td>\n",
       "      <td>1.92</td>\n",
       "      <td>1.00</td>\n",
       "      <td>2.00</td>\n",
       "      <td>3.00</td>\n",
       "      <td>4.00</td>\n",
       "      <td>16.00</td>\n",
       "    </tr>\n",
       "    <tr>\n",
       "      <th>n_msic</th>\n",
       "      <td>1442.00</td>\n",
       "      <td>2.18</td>\n",
       "      <td>1.65</td>\n",
       "      <td>1.00</td>\n",
       "      <td>1.00</td>\n",
       "      <td>2.00</td>\n",
       "      <td>3.00</td>\n",
       "      <td>11.00</td>\n",
       "    </tr>\n",
       "    <tr>\n",
       "      <th>n_vcs</th>\n",
       "      <td>2261.00</td>\n",
       "      <td>1.07</td>\n",
       "      <td>0.26</td>\n",
       "      <td>1.00</td>\n",
       "      <td>1.00</td>\n",
       "      <td>1.00</td>\n",
       "      <td>1.00</td>\n",
       "      <td>3.00</td>\n",
       "    </tr>\n",
       "    <tr>\n",
       "      <th>n_officestack</th>\n",
       "      <td>2243.00</td>\n",
       "      <td>2.29</td>\n",
       "      <td>1.01</td>\n",
       "      <td>1.00</td>\n",
       "      <td>2.00</td>\n",
       "      <td>2.00</td>\n",
       "      <td>3.00</td>\n",
       "      <td>8.00</td>\n",
       "    </tr>\n",
       "    <tr>\n",
       "      <th>n_devtitles</th>\n",
       "      <td>2262.00</td>\n",
       "      <td>2.40</td>\n",
       "      <td>1.96</td>\n",
       "      <td>1.00</td>\n",
       "      <td>1.00</td>\n",
       "      <td>2.00</td>\n",
       "      <td>3.00</td>\n",
       "      <td>23.00</td>\n",
       "    </tr>\n",
       "  </tbody>\n",
       "</table>\n",
       "</div>"
      ],
      "text/plain": [
       "                      count      mean      std      min       25%       50%  \\\n",
       "ConvertedCompYearly 2262.00 144347.08 62320.58 50000.00 100000.00 130000.00   \n",
       "YearsCode           2261.00     10.53     4.62     1.00      7.00     10.00   \n",
       "WorkExp             2262.00      6.47     2.33     3.00      4.00      6.00   \n",
       "n_cert               798.00      2.18     1.23     1.00      1.00      2.00   \n",
       "n_lang              2258.00      5.32     2.52     1.00      4.00      5.00   \n",
       "n_db                1956.00      2.58     1.55     1.00      1.00      2.00   \n",
       "n_platform          1817.00      1.85     1.08     1.00      1.00      2.00   \n",
       "n_webframe          1794.00      3.23     1.92     1.00      2.00      3.00   \n",
       "n_msic              1442.00      2.18     1.65     1.00      1.00      2.00   \n",
       "n_vcs               2261.00      1.07     0.26     1.00      1.00      1.00   \n",
       "n_officestack       2243.00      2.29     1.01     1.00      2.00      2.00   \n",
       "n_devtitles         2262.00      2.40     1.96     1.00      1.00      2.00   \n",
       "\n",
       "                          75%       max  \n",
       "ConvertedCompYearly 171000.00 400000.00  \n",
       "YearsCode               13.00     43.00  \n",
       "WorkExp                  8.00     10.00  \n",
       "n_cert                   3.00      7.00  \n",
       "n_lang                   7.00     22.00  \n",
       "n_db                     3.00     11.00  \n",
       "n_platform               2.00     13.00  \n",
       "n_webframe               4.00     16.00  \n",
       "n_msic                   3.00     11.00  \n",
       "n_vcs                    1.00      3.00  \n",
       "n_officestack            3.00      8.00  \n",
       "n_devtitles              3.00     23.00  "
      ]
     },
     "execution_count": 66,
     "metadata": {},
     "output_type": "execute_result"
    }
   ],
   "source": [
    "grp_early.describe().T"
   ]
  },
  {
   "cell_type": "code",
   "execution_count": 67,
   "metadata": {},
   "outputs": [
    {
     "data": {
      "text/plain": [
       "array([[<matplotlib.axes._subplots.AxesSubplot object at 0x000001EE538EA670>]],\n",
       "      dtype=object)"
      ]
     },
     "execution_count": 67,
     "metadata": {},
     "output_type": "execute_result"
    },
    {
     "data": {
      "image/png": "[encoded data removed]",
      "text/plain": [
       "<Figure size 720x720 with 1 Axes>"
      ]
     },
     "metadata": {
      "needs_background": "light"
     },
     "output_type": "display_data"
    }
   ],
   "source": [
    "grp_early.hist(column='ConvertedCompYearly',stacked=False, bins=15, figsize=(10, 10))"
   ]
  },
  {
   "cell_type": "code",
   "execution_count": 68,
   "metadata": {},
   "outputs": [
    {
     "data": {
      "text/html": [
       "<div>\n",
       "<style scoped>\n",
       "    .dataframe tbody tr th:only-of-type {\n",
       "        vertical-align: middle;\n",
       "    }\n",
       "\n",
       "    .dataframe tbody tr th {\n",
       "        vertical-align: top;\n",
       "    }\n",
       "\n",
       "    .dataframe thead th {\n",
       "        text-align: right;\n",
       "    }\n",
       "</style>\n",
       "<table border=\"1\" class=\"dataframe\">\n",
       "  <thead>\n",
       "    <tr style=\"text-align: right;\">\n",
       "      <th></th>\n",
       "      <th>count</th>\n",
       "      <th>mean</th>\n",
       "      <th>std</th>\n",
       "      <th>min</th>\n",
       "      <th>25%</th>\n",
       "      <th>50%</th>\n",
       "      <th>75%</th>\n",
       "      <th>max</th>\n",
       "    </tr>\n",
       "  </thead>\n",
       "  <tbody>\n",
       "    <tr>\n",
       "      <th>ConvertedCompYearly</th>\n",
       "      <td>1542.00</td>\n",
       "      <td>163096.92</td>\n",
       "      <td>63311.09</td>\n",
       "      <td>50000.00</td>\n",
       "      <td>120000.00</td>\n",
       "      <td>150000.00</td>\n",
       "      <td>200000.00</td>\n",
       "      <td>400000.00</td>\n",
       "    </tr>\n",
       "    <tr>\n",
       "      <th>YearsCode</th>\n",
       "      <td>1539.00</td>\n",
       "      <td>18.03</td>\n",
       "      <td>6.45</td>\n",
       "      <td>1.00</td>\n",
       "      <td>14.00</td>\n",
       "      <td>18.00</td>\n",
       "      <td>22.00</td>\n",
       "      <td>40.00</td>\n",
       "    </tr>\n",
       "    <tr>\n",
       "      <th>WorkExp</th>\n",
       "      <td>1542.00</td>\n",
       "      <td>15.12</td>\n",
       "      <td>2.96</td>\n",
       "      <td>11.00</td>\n",
       "      <td>12.00</td>\n",
       "      <td>15.00</td>\n",
       "      <td>17.00</td>\n",
       "      <td>20.00</td>\n",
       "    </tr>\n",
       "    <tr>\n",
       "      <th>n_cert</th>\n",
       "      <td>473.00</td>\n",
       "      <td>2.17</td>\n",
       "      <td>1.17</td>\n",
       "      <td>1.00</td>\n",
       "      <td>1.00</td>\n",
       "      <td>2.00</td>\n",
       "      <td>3.00</td>\n",
       "      <td>8.00</td>\n",
       "    </tr>\n",
       "    <tr>\n",
       "      <th>n_lang</th>\n",
       "      <td>1540.00</td>\n",
       "      <td>5.48</td>\n",
       "      <td>2.68</td>\n",
       "      <td>1.00</td>\n",
       "      <td>4.00</td>\n",
       "      <td>5.00</td>\n",
       "      <td>7.00</td>\n",
       "      <td>25.00</td>\n",
       "    </tr>\n",
       "    <tr>\n",
       "      <th>n_db</th>\n",
       "      <td>1376.00</td>\n",
       "      <td>2.79</td>\n",
       "      <td>1.80</td>\n",
       "      <td>1.00</td>\n",
       "      <td>1.00</td>\n",
       "      <td>2.00</td>\n",
       "      <td>4.00</td>\n",
       "      <td>14.00</td>\n",
       "    </tr>\n",
       "    <tr>\n",
       "      <th>n_platform</th>\n",
       "      <td>1277.00</td>\n",
       "      <td>1.95</td>\n",
       "      <td>1.23</td>\n",
       "      <td>1.00</td>\n",
       "      <td>1.00</td>\n",
       "      <td>2.00</td>\n",
       "      <td>2.00</td>\n",
       "      <td>8.00</td>\n",
       "    </tr>\n",
       "    <tr>\n",
       "      <th>n_webframe</th>\n",
       "      <td>1252.00</td>\n",
       "      <td>3.26</td>\n",
       "      <td>1.99</td>\n",
       "      <td>1.00</td>\n",
       "      <td>2.00</td>\n",
       "      <td>3.00</td>\n",
       "      <td>4.00</td>\n",
       "      <td>18.00</td>\n",
       "    </tr>\n",
       "    <tr>\n",
       "      <th>n_msic</th>\n",
       "      <td>1015.00</td>\n",
       "      <td>1.96</td>\n",
       "      <td>1.58</td>\n",
       "      <td>1.00</td>\n",
       "      <td>1.00</td>\n",
       "      <td>1.00</td>\n",
       "      <td>2.00</td>\n",
       "      <td>16.00</td>\n",
       "    </tr>\n",
       "    <tr>\n",
       "      <th>n_vcs</th>\n",
       "      <td>1542.00</td>\n",
       "      <td>1.08</td>\n",
       "      <td>0.29</td>\n",
       "      <td>1.00</td>\n",
       "      <td>1.00</td>\n",
       "      <td>1.00</td>\n",
       "      <td>1.00</td>\n",
       "      <td>3.00</td>\n",
       "    </tr>\n",
       "    <tr>\n",
       "      <th>n_officestack</th>\n",
       "      <td>1528.00</td>\n",
       "      <td>2.48</td>\n",
       "      <td>1.06</td>\n",
       "      <td>1.00</td>\n",
       "      <td>2.00</td>\n",
       "      <td>2.00</td>\n",
       "      <td>3.00</td>\n",
       "      <td>6.00</td>\n",
       "    </tr>\n",
       "    <tr>\n",
       "      <th>n_devtitles</th>\n",
       "      <td>1542.00</td>\n",
       "      <td>2.99</td>\n",
       "      <td>2.44</td>\n",
       "      <td>1.00</td>\n",
       "      <td>1.00</td>\n",
       "      <td>2.00</td>\n",
       "      <td>4.00</td>\n",
       "      <td>19.00</td>\n",
       "    </tr>\n",
       "  </tbody>\n",
       "</table>\n",
       "</div>"
      ],
      "text/plain": [
       "                      count      mean      std      min       25%       50%  \\\n",
       "ConvertedCompYearly 1542.00 163096.92 63311.09 50000.00 120000.00 150000.00   \n",
       "YearsCode           1539.00     18.03     6.45     1.00     14.00     18.00   \n",
       "WorkExp             1542.00     15.12     2.96    11.00     12.00     15.00   \n",
       "n_cert               473.00      2.17     1.17     1.00      1.00      2.00   \n",
       "n_lang              1540.00      5.48     2.68     1.00      4.00      5.00   \n",
       "n_db                1376.00      2.79     1.80     1.00      1.00      2.00   \n",
       "n_platform          1277.00      1.95     1.23     1.00      1.00      2.00   \n",
       "n_webframe          1252.00      3.26     1.99     1.00      2.00      3.00   \n",
       "n_msic              1015.00      1.96     1.58     1.00      1.00      1.00   \n",
       "n_vcs               1542.00      1.08     0.29     1.00      1.00      1.00   \n",
       "n_officestack       1528.00      2.48     1.06     1.00      2.00      2.00   \n",
       "n_devtitles         1542.00      2.99     2.44     1.00      1.00      2.00   \n",
       "\n",
       "                          75%       max  \n",
       "ConvertedCompYearly 200000.00 400000.00  \n",
       "YearsCode               22.00     40.00  \n",
       "WorkExp                 17.00     20.00  \n",
       "n_cert                   3.00      8.00  \n",
       "n_lang                   7.00     25.00  \n",
       "n_db                     4.00     14.00  \n",
       "n_platform               2.00      8.00  \n",
       "n_webframe               4.00     18.00  \n",
       "n_msic                   2.00     16.00  \n",
       "n_vcs                    1.00      3.00  \n",
       "n_officestack            3.00      6.00  \n",
       "n_devtitles              4.00     19.00  "
      ]
     },
     "execution_count": 68,
     "metadata": {},
     "output_type": "execute_result"
    }
   ],
   "source": [
    "grp_mid.describe().T"
   ]
  },
  {
   "cell_type": "code",
   "execution_count": 69,
   "metadata": {},
   "outputs": [
    {
     "data": {
      "text/plain": [
       "array([[<matplotlib.axes._subplots.AxesSubplot object at 0x000001EE538DC820>]],\n",
       "      dtype=object)"
      ]
     },
     "execution_count": 69,
     "metadata": {},
     "output_type": "execute_result"
    },
    {
     "data": {
      "image/png": "[encoded data removed]",
      "text/plain": [
       "<Figure size 720x720 with 1 Axes>"
      ]
     },
     "metadata": {
      "needs_background": "light"
     },
     "output_type": "display_data"
    }
   ],
   "source": [
    "grp_mid.hist(column='ConvertedCompYearly',stacked=False, bins=15, figsize=(10, 10))"
   ]
  },
  {
   "cell_type": "code",
   "execution_count": 70,
   "metadata": {},
   "outputs": [
    {
     "data": {
      "text/html": [
       "<div>\n",
       "<style scoped>\n",
       "    .dataframe tbody tr th:only-of-type {\n",
       "        vertical-align: middle;\n",
       "    }\n",
       "\n",
       "    .dataframe tbody tr th {\n",
       "        vertical-align: top;\n",
       "    }\n",
       "\n",
       "    .dataframe thead th {\n",
       "        text-align: right;\n",
       "    }\n",
       "</style>\n",
       "<table border=\"1\" class=\"dataframe\">\n",
       "  <thead>\n",
       "    <tr style=\"text-align: right;\">\n",
       "      <th></th>\n",
       "      <th>count</th>\n",
       "      <th>mean</th>\n",
       "      <th>std</th>\n",
       "      <th>min</th>\n",
       "      <th>25%</th>\n",
       "      <th>50%</th>\n",
       "      <th>75%</th>\n",
       "      <th>max</th>\n",
       "    </tr>\n",
       "  </thead>\n",
       "  <tbody>\n",
       "    <tr>\n",
       "      <th>ConvertedCompYearly</th>\n",
       "      <td>3288.00</td>\n",
       "      <td>157686.93</td>\n",
       "      <td>66169.28</td>\n",
       "      <td>50000.00</td>\n",
       "      <td>110000.00</td>\n",
       "      <td>150000.00</td>\n",
       "      <td>190000.00</td>\n",
       "      <td>400000.00</td>\n",
       "    </tr>\n",
       "    <tr>\n",
       "      <th>YearsCode</th>\n",
       "      <td>3256.00</td>\n",
       "      <td>21.37</td>\n",
       "      <td>12.34</td>\n",
       "      <td>1.00</td>\n",
       "      <td>10.00</td>\n",
       "      <td>21.00</td>\n",
       "      <td>30.00</td>\n",
       "      <td>50.00</td>\n",
       "    </tr>\n",
       "    <tr>\n",
       "      <th>WorkExp</th>\n",
       "      <td>1147.00</td>\n",
       "      <td>29.41</td>\n",
       "      <td>6.90</td>\n",
       "      <td>21.00</td>\n",
       "      <td>24.00</td>\n",
       "      <td>27.00</td>\n",
       "      <td>33.00</td>\n",
       "      <td>50.00</td>\n",
       "    </tr>\n",
       "    <tr>\n",
       "      <th>n_cert</th>\n",
       "      <td>1002.00</td>\n",
       "      <td>2.04</td>\n",
       "      <td>1.08</td>\n",
       "      <td>1.00</td>\n",
       "      <td>1.00</td>\n",
       "      <td>2.00</td>\n",
       "      <td>3.00</td>\n",
       "      <td>7.00</td>\n",
       "    </tr>\n",
       "    <tr>\n",
       "      <th>n_lang</th>\n",
       "      <td>3281.00</td>\n",
       "      <td>5.21</td>\n",
       "      <td>2.65</td>\n",
       "      <td>1.00</td>\n",
       "      <td>3.00</td>\n",
       "      <td>5.00</td>\n",
       "      <td>7.00</td>\n",
       "      <td>23.00</td>\n",
       "    </tr>\n",
       "    <tr>\n",
       "      <th>n_db</th>\n",
       "      <td>2800.00</td>\n",
       "      <td>2.56</td>\n",
       "      <td>1.63</td>\n",
       "      <td>1.00</td>\n",
       "      <td>1.00</td>\n",
       "      <td>2.00</td>\n",
       "      <td>3.00</td>\n",
       "      <td>15.00</td>\n",
       "    </tr>\n",
       "    <tr>\n",
       "      <th>n_platform</th>\n",
       "      <td>2541.00</td>\n",
       "      <td>1.82</td>\n",
       "      <td>1.12</td>\n",
       "      <td>1.00</td>\n",
       "      <td>1.00</td>\n",
       "      <td>1.00</td>\n",
       "      <td>2.00</td>\n",
       "      <td>11.00</td>\n",
       "    </tr>\n",
       "    <tr>\n",
       "      <th>n_webframe</th>\n",
       "      <td>2416.00</td>\n",
       "      <td>2.99</td>\n",
       "      <td>1.88</td>\n",
       "      <td>1.00</td>\n",
       "      <td>2.00</td>\n",
       "      <td>3.00</td>\n",
       "      <td>4.00</td>\n",
       "      <td>15.00</td>\n",
       "    </tr>\n",
       "    <tr>\n",
       "      <th>n_msic</th>\n",
       "      <td>2004.00</td>\n",
       "      <td>1.95</td>\n",
       "      <td>1.52</td>\n",
       "      <td>1.00</td>\n",
       "      <td>1.00</td>\n",
       "      <td>1.00</td>\n",
       "      <td>2.00</td>\n",
       "      <td>12.00</td>\n",
       "    </tr>\n",
       "    <tr>\n",
       "      <th>n_vcs</th>\n",
       "      <td>3285.00</td>\n",
       "      <td>1.10</td>\n",
       "      <td>0.32</td>\n",
       "      <td>1.00</td>\n",
       "      <td>1.00</td>\n",
       "      <td>1.00</td>\n",
       "      <td>1.00</td>\n",
       "      <td>3.00</td>\n",
       "    </tr>\n",
       "    <tr>\n",
       "      <th>n_officestack</th>\n",
       "      <td>3206.00</td>\n",
       "      <td>2.28</td>\n",
       "      <td>1.03</td>\n",
       "      <td>1.00</td>\n",
       "      <td>2.00</td>\n",
       "      <td>2.00</td>\n",
       "      <td>3.00</td>\n",
       "      <td>8.00</td>\n",
       "    </tr>\n",
       "    <tr>\n",
       "      <th>n_devtitles</th>\n",
       "      <td>3286.00</td>\n",
       "      <td>2.63</td>\n",
       "      <td>2.21</td>\n",
       "      <td>1.00</td>\n",
       "      <td>1.00</td>\n",
       "      <td>2.00</td>\n",
       "      <td>3.75</td>\n",
       "      <td>20.00</td>\n",
       "    </tr>\n",
       "  </tbody>\n",
       "</table>\n",
       "</div>"
      ],
      "text/plain": [
       "                      count      mean      std      min       25%       50%  \\\n",
       "ConvertedCompYearly 3288.00 157686.93 66169.28 50000.00 110000.00 150000.00   \n",
       "YearsCode           3256.00     21.37    12.34     1.00     10.00     21.00   \n",
       "WorkExp             1147.00     29.41     6.90    21.00     24.00     27.00   \n",
       "n_cert              1002.00      2.04     1.08     1.00      1.00      2.00   \n",
       "n_lang              3281.00      5.21     2.65     1.00      3.00      5.00   \n",
       "n_db                2800.00      2.56     1.63     1.00      1.00      2.00   \n",
       "n_platform          2541.00      1.82     1.12     1.00      1.00      1.00   \n",
       "n_webframe          2416.00      2.99     1.88     1.00      2.00      3.00   \n",
       "n_msic              2004.00      1.95     1.52     1.00      1.00      1.00   \n",
       "n_vcs               3285.00      1.10     0.32     1.00      1.00      1.00   \n",
       "n_officestack       3206.00      2.28     1.03     1.00      2.00      2.00   \n",
       "n_devtitles         3286.00      2.63     2.21     1.00      1.00      2.00   \n",
       "\n",
       "                          75%       max  \n",
       "ConvertedCompYearly 190000.00 400000.00  \n",
       "YearsCode               30.00     50.00  \n",
       "WorkExp                 33.00     50.00  \n",
       "n_cert                   3.00      7.00  \n",
       "n_lang                   7.00     23.00  \n",
       "n_db                     3.00     15.00  \n",
       "n_platform               2.00     11.00  \n",
       "n_webframe               4.00     15.00  \n",
       "n_msic                   2.00     12.00  \n",
       "n_vcs                    1.00      3.00  \n",
       "n_officestack            3.00      8.00  \n",
       "n_devtitles              3.75     20.00  "
      ]
     },
     "execution_count": 70,
     "metadata": {},
     "output_type": "execute_result"
    }
   ],
   "source": [
    "grp_vet.describe().T"
   ]
  },
  {
   "cell_type": "code",
   "execution_count": 71,
   "metadata": {},
   "outputs": [
    {
     "data": {
      "image/png": "[encoded data removed]",
      "text/plain": [
       "<Figure size 720x720 with 1 Axes>"
      ]
     },
     "metadata": {
      "needs_background": "light"
     },
     "output_type": "display_data"
    }
   ],
   "source": [
    "grp_vet.hist(column='ConvertedCompYearly',stacked=False, bins=15, figsize=(10, 10));"
   ]
  },
  {
   "cell_type": "code",
   "execution_count": 72,
   "metadata": {},
   "outputs": [
    {
     "data": {
      "image/png": "[encoded data removed]",
      "text/plain": [
       "<Figure size 1080x1080 with 4 Axes>"
      ]
     },
     "metadata": {
      "needs_background": "light"
     },
     "output_type": "display_data"
    }
   ],
   "source": [
    "fig, axes = plt.subplots(ncols = 2, nrows=2, figsize =(15, 15)) \n",
    "ax1, ax2, ax3, ax4 = axes.flatten()\n",
    "\n",
    "grp_new.hist(column='ConvertedCompYearly',stacked=False, bins=15, ax=ax1)\n",
    "ax1.set_title('New') \n",
    "\n",
    "grp_early.hist(column='ConvertedCompYearly',stacked=False, bins=15, ax=ax2)\n",
    "ax2.set_title('Early') \n",
    "\n",
    "grp_mid.hist(column='ConvertedCompYearly',stacked=False, bins=15, ax=ax3)\n",
    "ax3.set_title('Mid') \n",
    "\n",
    "grp_vet.hist(column='ConvertedCompYearly',stacked=False, bins=15, ax=ax4)\n",
    "ax4.set_title('Vet') ;"
   ]
  },
  {
   "cell_type": "code",
   "execution_count": 73,
   "metadata": {},
   "outputs": [],
   "source": [
    "comp_order = ['new','early','mid','vet']"
   ]
  },
  {
   "cell_type": "code",
   "execution_count": 74,
   "metadata": {},
   "outputs": [
    {
     "data": {
      "image/png": "[encoded data removed]",
      "text/plain": [
       "<Figure size 1080x576 with 1 Axes>"
      ]
     },
     "metadata": {
      "needs_background": "light"
     },
     "output_type": "display_data"
    }
   ],
   "source": [
    "plt.figure(figsize=(15,8))\n",
    "sns.boxplot(data=df_clean, x=\"WorkExpFour\", y=\"ConvertedCompYearly\", order=comp_order);"
   ]
  },
  {
   "cell_type": "code",
   "execution_count": 75,
   "metadata": {},
   "outputs": [
    {
     "name": "stdout",
     "output_type": "stream",
     "text": [
      "Grp new Average Compensation 106699.61\n",
      "Grp early Average Compensation 144347.08\n",
      "Grp mid Average Compensation 163096.92\n",
      "Grp vet Average Compensation 157686.93\n",
      "Grp new Median Compensation 90000.0\n",
      "Grp early Median Compensation 130000.0\n",
      "Grp mid Median Compensation 150000.0\n",
      "Grp vet Median Compensation 150000.0\n"
     ]
    }
   ],
   "source": [
    "print(\"Grp new Average Compensation\",round(grp_new[\"ConvertedCompYearly\"].mean(),2))\n",
    "print(\"Grp early Average Compensation\",round(grp_early[\"ConvertedCompYearly\"].mean(),2))\n",
    "print(\"Grp mid Average Compensation\",round(grp_mid[\"ConvertedCompYearly\"].mean(),2))\n",
    "print(\"Grp vet Average Compensation\",round(grp_vet[\"ConvertedCompYearly\"].mean(),2))\n",
    "print(\"Grp new Median Compensation\",round(grp_new[\"ConvertedCompYearly\"].median(),2))\n",
    "print(\"Grp early Median Compensation\",round(grp_early[\"ConvertedCompYearly\"].median(),2))\n",
    "print(\"Grp mid Median Compensation\",round(grp_mid[\"ConvertedCompYearly\"].median(),2))\n",
    "print(\"Grp vet Median Compensation\",round(grp_vet[\"ConvertedCompYearly\"].median(),2))"
   ]
  },
  {
   "cell_type": "code",
   "execution_count": 78,
   "metadata": {},
   "outputs": [],
   "source": [
    "def tools2(df1,df2,df3,df4):\n",
    "    tools_col = ['LearnCodeCoursesCert','LanguageHaveWorkedWith','DatabaseHaveWorkedWith','PlatformHaveWorkedWith',\n",
    "                'WebframeHaveWorkedWith','MiscTechHaveWorkedWith','VersionControlSystem','OfficeStackSyncHaveWorkedWith','DevType']\n",
    "    tools_counts = ['n_cert','n_lang','n_db','n_platform','n_webframe','n_msic','n_vcs','n_officestack','n_devtitles']\n",
    "    for x in range(9):\n",
    "        print(\"\\nGrp new Average Number of {}: {}\".format(tools_col[x],round(df1[tools_counts[x]].mean(),2)))\n",
    "        print(\"Grp early Average Number of {}: {}\".format(tools_col[x],round(df2[tools_counts[x]].mean(),2)))\n",
    "        print(\"Grp mid Average Number of {}: {}\".format(tools_col[x],round(df3[tools_counts[x]].mean(),2)))\n",
    "        print(\"Grp vet Average Number of {}: {}\\n\".format(tools_col[x],round(df4[tools_counts[x]].mean(),2)))\n",
    "        print(\"Grp new Median Number of {}: {}\".format(tools_col[x],round(df1[tools_counts[x]].median(),2)))\n",
    "        print(\"Grp early Median Number of {}: {}\".format(tools_col[x],round(df2[tools_counts[x]].median(),2)))\n",
    "        print(\"Grp mid Median Number of {}: {}\".format(tools_col[x],round(df3[tools_counts[x]].median(),2)))\n",
    "        print(\"Grp vet Median Number of {}: {}\\n\".format(tools_col[x],round(df4[tools_counts[x]].median(),2)))\n",
    "        print(\"\\nGrp new Top {}:\".format(tools_col[x]))\n",
    "        print(pd.Series([item for sublist in df1[df1[tools_col[x]].notnull()][tools_col[x]].str.split(pat=\";\") for item in sublist]).value_counts().head(8))\n",
    "        print(\"\\nGrp early Top {}:\".format(tools_col[x]))\n",
    "        print(pd.Series([item for sublist in df2[df2[tools_col[x]].notnull()][tools_col[x]].str.split(pat=\";\") for item in sublist]).value_counts().head(8))\n",
    "        print(\"\\nGrp mid Top {}:\".format(tools_col[x]))\n",
    "        print(pd.Series([item for sublist in df3[df3[tools_col[x]].notnull()][tools_col[x]].str.split(pat=\";\") for item in sublist]).value_counts().head(8))\n",
    "        print(\"\\nGrp vet Top {}:\".format(tools_col[x]))\n",
    "        print(pd.Series([item for sublist in df4[df4[tools_col[x]].notnull()][tools_col[x]].str.split(pat=\";\") for item in sublist]).value_counts().head(8))"
   ]
  },
  {
   "cell_type": "code",
   "execution_count": 79,
   "metadata": {
    "scrolled": false
   },
   "outputs": [
    {
     "name": "stdout",
     "output_type": "stream",
     "text": [
      "\n",
      "Grp new Average Number of LearnCodeCoursesCert: 2.06\n",
      "Grp early Average Number of LearnCodeCoursesCert: 2.18\n",
      "Grp mid Average Number of LearnCodeCoursesCert: 2.17\n",
      "Grp vet Average Number of LearnCodeCoursesCert: 2.04\n",
      "\n",
      "Grp new Median Number of LearnCodeCoursesCert: 2.0\n",
      "Grp early Median Number of LearnCodeCoursesCert: 2.0\n",
      "Grp mid Median Number of LearnCodeCoursesCert: 2.0\n",
      "Grp vet Median Number of LearnCodeCoursesCert: 2.0\n",
      "\n",
      "\n",
      "Grp new Top LearnCodeCoursesCert:\n",
      "Udemy          107\n",
      "Codecademy      73\n",
      "Coursera        52\n",
      "Other           41\n",
      "Pluralsight     36\n",
      "edX             30\n",
      "Udacity         19\n",
      "Skillsoft        1\n",
      "dtype: int64\n",
      "\n",
      "Grp early Top LearnCodeCoursesCert:\n",
      "Udemy          465\n",
      "Codecademy     328\n",
      "Pluralsight    283\n",
      "Coursera       242\n",
      "Other          157\n",
      "Udacity        136\n",
      "edX            114\n",
      "Skillsoft       14\n",
      "dtype: int64\n",
      "\n",
      "Grp mid Top LearnCodeCoursesCert:\n",
      "Udemy          263\n",
      "Pluralsight    220\n",
      "Coursera       144\n",
      "Codecademy     141\n",
      "Other          109\n",
      "Udacity         75\n",
      "edX             63\n",
      "Skillsoft       11\n",
      "dtype: int64\n",
      "\n",
      "Grp vet Top LearnCodeCoursesCert:\n",
      "Udemy          570\n",
      "Pluralsight    415\n",
      "Coursera       291\n",
      "Codecademy     279\n",
      "Other          201\n",
      "Udacity        117\n",
      "edX            116\n",
      "Skillsoft       53\n",
      "dtype: int64\n",
      "\n",
      "Grp new Average Number of LanguageHaveWorkedWith: 5.3\n",
      "Grp early Average Number of LanguageHaveWorkedWith: 5.32\n",
      "Grp mid Average Number of LanguageHaveWorkedWith: 5.48\n",
      "Grp vet Average Number of LanguageHaveWorkedWith: 5.21\n",
      "\n",
      "Grp new Median Number of LanguageHaveWorkedWith: 5.0\n",
      "Grp early Median Number of LanguageHaveWorkedWith: 5.0\n",
      "Grp mid Median Number of LanguageHaveWorkedWith: 5.0\n",
      "Grp vet Median Number of LanguageHaveWorkedWith: 5.0\n",
      "\n",
      "\n",
      "Grp new Top LanguageHaveWorkedWith:\n",
      "JavaScript    278\n",
      "Python        260\n",
      "HTML/CSS      240\n",
      "SQL           217\n",
      "TypeScript    185\n",
      "Bash/Shell    165\n",
      "Java          135\n",
      "C#            110\n",
      "dtype: int64\n",
      "\n",
      "Grp early Top LanguageHaveWorkedWith:\n",
      "JavaScript    1579\n",
      "SQL           1253\n",
      "HTML/CSS      1225\n",
      "Python        1196\n",
      "TypeScript    1045\n",
      "Bash/Shell     912\n",
      "C#             671\n",
      "Java           627\n",
      "dtype: int64\n",
      "\n",
      "Grp mid Top LanguageHaveWorkedWith:\n",
      "JavaScript    1110\n",
      "SQL            972\n",
      "HTML/CSS       908\n",
      "Python         675\n",
      "Bash/Shell     672\n",
      "TypeScript     652\n",
      "C#             558\n",
      "Java           424\n",
      "dtype: int64\n",
      "\n",
      "Grp vet Top LanguageHaveWorkedWith:\n",
      "JavaScript    2168\n",
      "SQL           1874\n",
      "HTML/CSS      1688\n",
      "Python        1463\n",
      "Bash/Shell    1289\n",
      "TypeScript    1144\n",
      "C#            1099\n",
      "Java           884\n",
      "dtype: int64\n",
      "\n",
      "Grp new Average Number of DatabaseHaveWorkedWith: 2.39\n",
      "Grp early Average Number of DatabaseHaveWorkedWith: 2.58\n",
      "Grp mid Average Number of DatabaseHaveWorkedWith: 2.79\n",
      "Grp vet Average Number of DatabaseHaveWorkedWith: 2.56\n",
      "\n",
      "Grp new Median Number of DatabaseHaveWorkedWith: 2.0\n",
      "Grp early Median Number of DatabaseHaveWorkedWith: 2.0\n",
      "Grp mid Median Number of DatabaseHaveWorkedWith: 2.0\n",
      "Grp vet Median Number of DatabaseHaveWorkedWith: 2.0\n",
      "\n",
      "\n",
      "Grp new Top DatabaseHaveWorkedWith:\n",
      "PostgreSQL              170\n",
      "MySQL                   123\n",
      "MongoDB                 111\n",
      "Microsoft SQL Server     92\n",
      "SQLite                   82\n",
      "Redis                    75\n",
      "DynamoDB                 43\n",
      "Elasticsearch            41\n",
      "dtype: int64\n",
      "\n",
      "Grp early Top DatabaseHaveWorkedWith:\n",
      "PostgreSQL              1005\n",
      "MySQL                    715\n",
      "Microsoft SQL Server     561\n",
      "Redis                    543\n",
      "SQLite                   491\n",
      "MongoDB                  404\n",
      "DynamoDB                 312\n",
      "Elasticsearch            311\n",
      "dtype: int64\n",
      "\n",
      "Grp mid Top DatabaseHaveWorkedWith:\n",
      "PostgreSQL              673\n",
      "Microsoft SQL Server    524\n",
      "MySQL                   478\n",
      "Redis                   443\n",
      "SQLite                  362\n",
      "MongoDB                 278\n",
      "Elasticsearch           260\n",
      "DynamoDB                220\n",
      "dtype: int64\n",
      "\n",
      "Grp vet Top DatabaseHaveWorkedWith:\n",
      "PostgreSQL              1246\n",
      "Microsoft SQL Server    1052\n",
      "MySQL                   1032\n",
      "SQLite                   730\n",
      "Redis                    701\n",
      "MongoDB                  509\n",
      "Elasticsearch            392\n",
      "DynamoDB                 353\n",
      "dtype: int64\n",
      "\n",
      "Grp new Average Number of PlatformHaveWorkedWith: 1.89\n",
      "Grp early Average Number of PlatformHaveWorkedWith: 1.85\n",
      "Grp mid Average Number of PlatformHaveWorkedWith: 1.95\n",
      "Grp vet Average Number of PlatformHaveWorkedWith: 1.82\n",
      "\n",
      "Grp new Median Number of PlatformHaveWorkedWith: 2.0\n",
      "Grp early Median Number of PlatformHaveWorkedWith: 2.0\n",
      "Grp mid Median Number of PlatformHaveWorkedWith: 2.0\n",
      "Grp vet Median Number of PlatformHaveWorkedWith: 1.0\n",
      "\n",
      "\n",
      "Grp new Top PlatformHaveWorkedWith:\n",
      "AWS                209\n",
      "Microsoft Azure     82\n",
      "Heroku              80\n",
      "Google Cloud        76\n",
      "Firebase            57\n",
      "DigitalOcean        43\n",
      "VMware              25\n",
      "Linode               8\n",
      "dtype: int64\n",
      "\n",
      "Grp early Top PlatformHaveWorkedWith:\n",
      "AWS                1246\n",
      "Microsoft Azure     560\n",
      "Google Cloud        457\n",
      "DigitalOcean        309\n",
      "Heroku              266\n",
      "Firebase            229\n",
      "VMware              108\n",
      "Linode               60\n",
      "dtype: int64\n",
      "\n",
      "Grp mid Top PlatformHaveWorkedWith:\n",
      "AWS                894\n",
      "Microsoft Azure    451\n",
      "Google Cloud       295\n",
      "DigitalOcean       226\n",
      "Heroku             162\n",
      "Firebase           113\n",
      "VMware              99\n",
      "Linode              73\n",
      "dtype: int64\n",
      "\n",
      "Grp vet Top PlatformHaveWorkedWith:\n",
      "AWS                1706\n",
      "Microsoft Azure     872\n",
      "Google Cloud        579\n",
      "DigitalOcean        333\n",
      "Heroku              259\n",
      "VMware              226\n",
      "Firebase            222\n",
      "Linode              116\n",
      "dtype: int64\n",
      "\n",
      "Grp new Average Number of WebframeHaveWorkedWith: 3.18\n",
      "Grp early Average Number of WebframeHaveWorkedWith: 3.23\n",
      "Grp mid Average Number of WebframeHaveWorkedWith: 3.26\n",
      "Grp vet Average Number of WebframeHaveWorkedWith: 2.99\n",
      "\n",
      "Grp new Median Number of WebframeHaveWorkedWith: 3.0\n",
      "Grp early Median Number of WebframeHaveWorkedWith: 3.0\n",
      "Grp mid Median Number of WebframeHaveWorkedWith: 3.0\n",
      "Grp vet Median Number of WebframeHaveWorkedWith: 3.0\n",
      "\n",
      "\n",
      "Grp new Top WebframeHaveWorkedWith:\n",
      "React.js    193\n",
      "Node.js     169\n",
      "Express      95\n",
      "jQuery       67\n",
      "Django       57\n",
      "Next.js      55\n",
      "Angular      54\n",
      "Flask        53\n",
      "dtype: int64\n",
      "\n",
      "Grp early Top WebframeHaveWorkedWith:\n",
      "React.js         963\n",
      "Node.js          880\n",
      "Express          411\n",
      "jQuery           400\n",
      "ASP.NET Core     385\n",
      "Angular          350\n",
      "Vue.js           308\n",
      "ASP.NET          282\n",
      "dtype: int64\n",
      "\n",
      "Grp mid Top WebframeHaveWorkedWith:\n",
      "Node.js          598\n",
      "React.js         553\n",
      "jQuery           358\n",
      "ASP.NET Core     358\n",
      "ASP.NET          257\n",
      "Angular          255\n",
      "Vue.js           240\n",
      "Express          234\n",
      "dtype: int64\n",
      "\n",
      "Grp vet Top WebframeHaveWorkedWith:\n",
      "Node.js          1072\n",
      "React.js         1031\n",
      "jQuery            729\n",
      "ASP.NET Core      617\n",
      "ASP.NET           524\n",
      "Angular           471\n",
      "Express           402\n",
      "Vue.js            384\n",
      "dtype: int64\n",
      "\n",
      "Grp new Average Number of MiscTechHaveWorkedWith: 2.42\n",
      "Grp early Average Number of MiscTechHaveWorkedWith: 2.18\n",
      "Grp mid Average Number of MiscTechHaveWorkedWith: 1.96\n",
      "Grp vet Average Number of MiscTechHaveWorkedWith: 1.95\n",
      "\n",
      "Grp new Median Number of MiscTechHaveWorkedWith: 2.0\n",
      "Grp early Median Number of MiscTechHaveWorkedWith: 2.0\n",
      "Grp mid Median Number of MiscTechHaveWorkedWith: 1.0\n",
      "Grp vet Median Number of MiscTechHaveWorkedWith: 1.0\n",
      "\n",
      "\n",
      "Grp new Top MiscTechHaveWorkedWith:\n",
      "NumPy            108\n",
      "Pandas            99\n",
      ".NET              90\n",
      "Spring            43\n",
      "Scikit-learn      40\n",
      "TensorFlow        36\n",
      "React Native      35\n",
      "Torch/PyTorch     32\n",
      "dtype: int64\n",
      "\n",
      "Grp early Top MiscTechHaveWorkedWith:\n",
      ".NET            561\n",
      "NumPy           426\n",
      "Pandas          413\n",
      "Spring          222\n",
      "Apache Kafka    196\n",
      "Scikit-learn    163\n",
      "React Native    153\n",
      "Electron        133\n",
      "dtype: int64\n",
      "\n",
      "Grp mid Top MiscTechHaveWorkedWith:\n",
      ".NET            492\n",
      "NumPy           192\n",
      "Pandas          186\n",
      "Spring          175\n",
      "Apache Kafka    154\n",
      "React Native    101\n",
      "Electron         76\n",
      "Scikit-learn     74\n",
      "dtype: int64\n",
      "\n",
      "Grp vet Top MiscTechHaveWorkedWith:\n",
      ".NET            927\n",
      "NumPy           436\n",
      "Pandas          416\n",
      "Spring          294\n",
      "Apache Kafka    257\n",
      "React Native    167\n",
      "Scikit-learn    165\n",
      "Electron        144\n",
      "dtype: int64\n",
      "\n",
      "Grp new Average Number of VersionControlSystem: 1.07\n",
      "Grp early Average Number of VersionControlSystem: 1.07\n",
      "Grp mid Average Number of VersionControlSystem: 1.08\n",
      "Grp vet Average Number of VersionControlSystem: 1.1\n",
      "\n",
      "Grp new Median Number of VersionControlSystem: 1.0\n",
      "Grp early Median Number of VersionControlSystem: 1.0\n",
      "Grp mid Median Number of VersionControlSystem: 1.0\n",
      "Grp vet Median Number of VersionControlSystem: 1.0\n",
      "\n",
      "\n",
      "Grp new Top VersionControlSystem:\n",
      "Git                        427\n",
      "SVN                         16\n",
      "Other (please specify):     15\n",
      "Mercurial                    5\n",
      "I don't use one              1\n",
      "dtype: int64\n",
      "\n",
      "Grp early Top VersionControlSystem:\n",
      "Git                        2222\n",
      "Other (please specify):      74\n",
      "SVN                          67\n",
      "Mercurial                    38\n",
      "I don't use one              10\n",
      "dtype: int64\n",
      "\n",
      "Grp mid Top VersionControlSystem:\n",
      "Git                        1516\n",
      "Other (please specify):      64\n",
      "SVN                          60\n",
      "Mercurial                    23\n",
      "I don't use one               5\n",
      "dtype: int64\n",
      "\n",
      "Grp vet Top VersionControlSystem:\n",
      "Git                        3131\n",
      "Other (please specify):     197\n",
      "SVN                         194\n",
      "I don't use one              54\n",
      "Mercurial                    45\n",
      "dtype: int64\n",
      "\n",
      "Grp new Average Number of OfficeStackSyncHaveWorkedWith: 2.16\n",
      "Grp early Average Number of OfficeStackSyncHaveWorkedWith: 2.29\n",
      "Grp mid Average Number of OfficeStackSyncHaveWorkedWith: 2.48\n",
      "Grp vet Average Number of OfficeStackSyncHaveWorkedWith: 2.28\n",
      "\n",
      "Grp new Median Number of OfficeStackSyncHaveWorkedWith: 2.0\n",
      "Grp early Median Number of OfficeStackSyncHaveWorkedWith: 2.0\n",
      "Grp mid Median Number of OfficeStackSyncHaveWorkedWith: 2.0\n",
      "Grp vet Median Number of OfficeStackSyncHaveWorkedWith: 2.0\n",
      "\n",
      "\n",
      "Grp new Top OfficeStackSyncHaveWorkedWith:\n",
      "Slack                271\n",
      "Zoom                 251\n",
      "Microsoft Teams      230\n",
      "Google Chat           67\n",
      "Cisco Webex Teams     55\n",
      "Mattermost            25\n",
      "RingCentral           11\n",
      "Rocketchat             4\n",
      "dtype: int64\n",
      "\n",
      "Grp early Top OfficeStackSyncHaveWorkedWith:\n",
      "Slack                1593\n",
      "Zoom                 1508\n",
      "Microsoft Teams      1164\n",
      "Google Chat           415\n",
      "Cisco Webex Teams     247\n",
      "Mattermost            101\n",
      "RingCentral            48\n",
      "Rocketchat             33\n",
      "dtype: int64\n",
      "\n",
      "Grp mid Top OfficeStackSyncHaveWorkedWith:\n",
      "Zoom                 1105\n",
      "Slack                1083\n",
      "Microsoft Teams       902\n",
      "Google Chat           367\n",
      "Cisco Webex Teams     181\n",
      "RingCentral            59\n",
      "Mattermost             54\n",
      "Rocketchat             20\n",
      "dtype: int64\n",
      "\n",
      "Grp vet Top OfficeStackSyncHaveWorkedWith:\n",
      "Zoom                 2099\n",
      "Slack                2090\n",
      "Microsoft Teams      1843\n",
      "Google Chat           620\n",
      "Cisco Webex Teams     388\n",
      "Mattermost            120\n",
      "RingCentral            87\n",
      "Rocketchat             35\n",
      "dtype: int64\n",
      "\n",
      "Grp new Average Number of DevType: 1.87\n",
      "Grp early Average Number of DevType: 2.4\n",
      "Grp mid Average Number of DevType: 2.99\n",
      "Grp vet Average Number of DevType: 2.63\n",
      "\n",
      "Grp new Median Number of DevType: 1.0\n",
      "Grp early Median Number of DevType: 2.0\n",
      "Grp mid Median Number of DevType: 2.0\n",
      "Grp vet Median Number of DevType: 2.0\n",
      "\n",
      "\n",
      "Grp new Top DevType:\n",
      "Developer, full-stack                            187\n",
      "Developer, back-end                              164\n",
      "Developer, front-end                              93\n",
      "Developer, desktop or enterprise applications     56\n",
      "DevOps specialist                                 30\n",
      "Cloud infrastructure engineer                     27\n",
      "Data scientist or machine learning specialist     25\n",
      "Developer, embedded applications or devices       24\n",
      "dtype: int64\n",
      "\n",
      "Grp early Top DevType:\n",
      "Developer, full-stack                            1195\n",
      "Developer, back-end                               946\n",
      "Developer, front-end                              500\n",
      "Developer, desktop or enterprise applications     272\n",
      "DevOps specialist                                 249\n",
      "Cloud infrastructure engineer                     246\n",
      "Developer, mobile                                 181\n",
      "Engineer, data                                    174\n",
      "dtype: int64\n",
      "\n",
      "Grp mid Top DevType:\n",
      "Developer, full-stack                            840\n",
      "Developer, back-end                              708\n",
      "Developer, front-end                             382\n",
      "Developer, desktop or enterprise applications    256\n",
      "Cloud infrastructure engineer                    248\n",
      "DevOps specialist                                243\n",
      "Engineering manager                              206\n",
      "System administrator                             175\n",
      "dtype: int64\n",
      "\n",
      "Grp vet Top DevType:\n",
      "Developer, full-stack                            1604\n",
      "Developer, back-end                              1371\n",
      "Developer, front-end                              740\n",
      "Developer, desktop or enterprise applications     564\n",
      "DevOps specialist                                 374\n",
      "Cloud infrastructure engineer                     344\n",
      "Database administrator                            313\n",
      "Engineering manager                               294\n",
      "dtype: int64\n"
     ]
    }
   ],
   "source": [
    "tools2(grp_new,grp_early,grp_mid,grp_vet)"
   ]
  }
 ],
 "metadata": {
  "kernelspec": {
   "display_name": "Python 3",
   "language": "python",
   "name": "python3"
  },
  "language_info": {
   "codemirror_mode": {
    "name": "ipython",
    "version": 3
   },
   "file_extension": ".py",
   "mimetype": "text/x-python",
   "name": "python",
   "nbconvert_exporter": "python",
   "pygments_lexer": "ipython3",
   "version": "3.8.3"
  }
 },
 "nbformat": 4,
 "nbformat_minor": 4
}
